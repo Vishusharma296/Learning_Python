{
 "cells": [
  {
   "cell_type": "markdown",
   "id": "315541aa",
   "metadata": {},
   "source": [
    "# Python 3: Object Oriented Programming \n",
    "## Practice Notebook 2.1:  \n",
    "#### Class, methods, constructors\n",
    "\n",
    "This is a basic python 3 OOP practice notebook. The goal of OOP is to organize and reuse the code.\n",
    "This notebook will covers the following topics:\n",
    "\n",
    "1. Objects\n",
    "2. Class.\n",
    "3. Methods\n",
    "4. Inheritence\n",
    "\n",
    "The targeted audience is people who are too lazy to read python documentation, type code themselves, or don't have enough time to watch the plenty of tutorials online. I assume you have some experience in programming before but now you kind of forgot it. So sit back with a cup of coffee and start reading the notebook and keep running the coding cells. Interact with the code, try to understand what is happening and if possible feel free to tinker with code.\n",
    "\n",
    "It would roughly take 1 hour to comple this notebook. If you read the notebook carefully and exexcuted the code cells, you will be good to go with the basics of Object Oriented Programming in python. \n",
    "\n",
    "Feel free to write me feedback at vishusharma296@gmail.com\n",
    "I plan to write a series of Notebooks covering various topics on Python 3, Numpy, Pandas, SciPy, matplotlib and others\n",
    "\n",
    "Author: Vishu Sharma\\\n",
    "Last updated: 19.02.2022\\\n",
    "Version: 01_2022"
   ]
  },
  {
   "cell_type": "markdown",
   "id": "c5cbeafd",
   "metadata": {},
   "source": [
    "### Theoretical Backgraound for OOPS\n",
    "\n",
    "Object-oriented programming is an approach that provides a way of modularizing programs by \n",
    "creating partitioned memory area for both data and functions that can be used as templates for \n",
    "creating copies of such modules on demand.\n",
    "\n",
    "The major motivating factor in the invention of object-oriented approach is to remove some of the \n",
    "flaws encountered in the procedural approach. OOP treats data as a critical element in the program \n",
    "development and does not allow it to flow freely around the system. It ties data more closely to the \n",
    "functions that operate on it, and protects it from accidental modification from outside functions. \n",
    "OOP allows decomposition of a problem into a number of entities called objects and then builds \n",
    "data and functions around these objects.\n",
    "\n",
    "Object-oriented programming is an approach that provides a way of modularizing programs by \n",
    "creating partitioned memory area for both data and functions that can be used as templates for \n",
    "creating copies of such modules on demand\n",
    "\n",
    "#### Objects\n",
    "\n",
    "Objects are basic runtime entities. When a program is executed, the objects interact by sending messages to\n",
    "one another. Each object contains data, and code to manipulate the data. Objects can interact without having to know details of each other's data or code. The data of an object can be accessed only by the functions associated with that object.\n",
    "\n",
    "#### Class\n",
    "\n",
    "A class is a collection of objects of similar type. Classes are user-defined data types and behave like the built-in types of a programming language. The entire set of data and code of an an object can be made a user defined data type with the help of a class. objects are variables/methods of the type class.\n"
   ]
  },
  {
   "cell_type": "code",
   "execution_count": 1,
   "id": "dbbd74c6",
   "metadata": {},
   "outputs": [],
   "source": [
    "# Setting up a class STUDENT, defining its objects and attributes\n",
    "# __init__ is constructor is a special method\n",
    "\n",
    "\n",
    "class STUDENT:\n",
    "    def __init__(self, name, age, ID, cgpa):\n",
    "        self.name = name\n",
    "        self.age = age\n",
    "        self.ID = ID\n",
    "        self.cgpa = cgpa\n",
    "        \n",
    "        print(\"Information about student:\", name)\n",
    "        print(\"Age of the student:\", age)\n",
    "        print(\"Student ID:\", ID)\n",
    "        print(\"Student CGPA:\", cgpa)\n",
    "        \n",
    "    def get_grades(self):\n",
    "        return self.cgpa \n",
    "        \n",
    "        "
   ]
  },
  {
   "cell_type": "code",
   "execution_count": 2,
   "id": "e8997770",
   "metadata": {},
   "outputs": [],
   "source": [
    "# Setting up a class COURSE, defining its objects and attributes\n",
    "\n",
    "class COURSE:\n",
    "    def __init__(self, course_name, max_students):\n",
    "        self.course_name = course_name\n",
    "        self.max_students = max_students\n",
    "        self.students = [  ]\n",
    "        print('Welcome to the course: ', course_name)\n",
    "        print('This course can have maximum number of students:', max_students)\n",
    "        \n",
    "    def add_students(self, student):\n",
    "        \n",
    "        if len(self.students) < self.max_students:\n",
    "            self.students.append(student)\n",
    "            print('student added successfully')\n",
    "            return True  \n",
    "        \n",
    "        \n",
    "    def get_average_grade(self):\n",
    "        \n",
    "        grade_val = 0\n",
    "        for student in self.students:\n",
    "            grade_val = grade_val + student.get_grades()\n",
    "        avg_grade = grade_val/len(self.students)\n",
    "        \n",
    "        return avg_grade\n",
    "      \n",
    "    "
   ]
  },
  {
   "cell_type": "code",
   "execution_count": 3,
   "id": "ff490400",
   "metadata": {},
   "outputs": [
    {
     "name": "stdout",
     "output_type": "stream",
     "text": [
      "Information about student: John\n",
      "Age of the student: 21\n",
      "Student ID: 1995\n",
      "Student CGPA: 8\n",
      "Information about student: Lucy\n",
      "Age of the student: 23\n",
      "Student ID: 2000\n",
      "Student CGPA: 9\n",
      "Information about student: Alice\n",
      "Age of the student: 24\n",
      "Student ID: 2006\n",
      "Student CGPA: 7\n"
     ]
    }
   ],
   "source": [
    "stu_1 = STUDENT('John', 21, 1995, 8)\n",
    "stu_2 = STUDENT('Lucy', 23, 2000, 9)\n",
    "stu_3 = STUDENT('Alice', 24, 2006, 7)"
   ]
  },
  {
   "cell_type": "code",
   "execution_count": 4,
   "id": "c45f5abc",
   "metadata": {},
   "outputs": [
    {
     "name": "stdout",
     "output_type": "stream",
     "text": [
      "Welcome to the course:  Biology\n",
      "This course can have maximum number of students: 3\n"
     ]
    }
   ],
   "source": [
    "crs_1 = COURSE('Biology', 3)"
   ]
  },
  {
   "cell_type": "code",
   "execution_count": 5,
   "id": "695fb1ba",
   "metadata": {},
   "outputs": [
    {
     "name": "stdout",
     "output_type": "stream",
     "text": [
      "student added successfully\n",
      "student added successfully\n",
      "student added successfully\n"
     ]
    },
    {
     "data": {
      "text/plain": [
       "True"
      ]
     },
     "execution_count": 5,
     "metadata": {},
     "output_type": "execute_result"
    }
   ],
   "source": [
    "crs_1.add_students(stu_1)\n",
    "crs_1.add_students(stu_2)\n",
    "crs_1.add_students(stu_3)"
   ]
  },
  {
   "cell_type": "code",
   "execution_count": 6,
   "id": "364df1a4",
   "metadata": {},
   "outputs": [
    {
     "name": "stdout",
     "output_type": "stream",
     "text": [
      "Information about student: Peter\n",
      "Age of the student: 20\n",
      "Student ID: 2106\n",
      "Student CGPA: 9\n"
     ]
    }
   ],
   "source": [
    "stu_4 = STUDENT('Peter', 20, 2106, 9)"
   ]
  },
  {
   "cell_type": "code",
   "execution_count": 7,
   "id": "50363c2b",
   "metadata": {},
   "outputs": [
    {
     "name": "stdout",
     "output_type": "stream",
     "text": [
      "8.0\n"
     ]
    }
   ],
   "source": [
    "print(crs_1.get_average_grade())"
   ]
  },
  {
   "cell_type": "code",
   "execution_count": 8,
   "id": "a0623308",
   "metadata": {},
   "outputs": [
    {
     "name": "stdout",
     "output_type": "stream",
     "text": [
      "Welcome to the course:  Mathematics\n",
      "This course can have maximum number of students: 3\n"
     ]
    }
   ],
   "source": [
    "crs_2 = COURSE('Mathematics', 3)"
   ]
  },
  {
   "cell_type": "code",
   "execution_count": 9,
   "id": "298222f1",
   "metadata": {},
   "outputs": [
    {
     "name": "stdout",
     "output_type": "stream",
     "text": [
      "student added successfully\n",
      "student added successfully\n"
     ]
    },
    {
     "data": {
      "text/plain": [
       "True"
      ]
     },
     "execution_count": 9,
     "metadata": {},
     "output_type": "execute_result"
    }
   ],
   "source": [
    "crs_2.add_students(stu_1)\n",
    "crs_2.add_students(stu_4)"
   ]
  },
  {
   "cell_type": "code",
   "execution_count": 10,
   "id": "fa2b9791",
   "metadata": {},
   "outputs": [
    {
     "name": "stdout",
     "output_type": "stream",
     "text": [
      "8.5\n"
     ]
    }
   ],
   "source": [
    "print(crs_2.get_average_grade())"
   ]
  }
 ],
 "metadata": {
  "kernelspec": {
   "display_name": "Python 3 (ipykernel)",
   "language": "python",
   "name": "python3"
  },
  "language_info": {
   "codemirror_mode": {
    "name": "ipython",
    "version": 3
   },
   "file_extension": ".py",
   "mimetype": "text/x-python",
   "name": "python",
   "nbconvert_exporter": "python",
   "pygments_lexer": "ipython3",
   "version": "3.9.7"
  }
 },
 "nbformat": 4,
 "nbformat_minor": 5
}
