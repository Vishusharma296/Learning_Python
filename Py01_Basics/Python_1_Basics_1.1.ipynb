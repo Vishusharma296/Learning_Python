{
 "cells": [
  {
   "cell_type": "markdown",
   "id": "cb54bb4d",
   "metadata": {},
   "source": [
    "# Basics of Python 3\n",
    "## Practice Notebook 1.1: \n",
    "#### Strings, Control statements, Lists, Dictionaries, Functions, \n",
    "\n",
    "This is a basic Python 3 practice notebook which covers the following topics:\n",
    "\n",
    "1. Strings\n",
    "2. Use of flow control statements like if-else, for loops\n",
    "3. Lists\n",
    "4. Dictionaries\n",
    "5. Functions\n",
    "\n",
    "Target audience for this notebook are people who are looking to quickly brush up their python skills, people who feeltoo lazy to read python documentation, type code themselves, or don't have enough time to watch the plenty of tutorials online. I assume you have some experience in programming before but now you kind of forgot the things. \n",
    "\n",
    "So sit back with a cup of coffee and start reading the notebook and keep running the coding cells. Interact with the code, try to understand what is happening and if possible feel free to tinker with code. It would roughly take 1 hour to comple this notebook. If you read the notebook carefully and exexcuted the code cells, you will be good to go with the python basics. I plan to write a series of Notebooks covering various topics on Python 3, OOP, Numpy, Pandas, SciPy, matplotlib and others.\n",
    "\n",
    "Feel free to write me feedback at vishusharma296@gmail.com\n",
    "\n",
    "\n",
    "**Author: Vishu Sharma** \n",
    "\n",
    "Last Update: 09.03.2022\\\n",
    "First Version: 13.02.2022\\\n",
    "Version: 02_2022\n",
    "\n",
    "#### Sources to learn Python:\n",
    "\n",
    "* [Automate the Boring Stuff](https://automatetheboringstuff.com/)\n",
    "* [Dive into Python3](https://diveintopython3.net/)\n",
    "* [Python for Everyone](https://www.py4e.com/)\n"
   ]
  },
  {
   "cell_type": "code",
   "execution_count": 1,
   "id": "cbd86342",
   "metadata": {},
   "outputs": [],
   "source": [
    "# Importing Libraries\n",
    "\n",
    "import math\n",
    "import random\n",
    "import pprint"
   ]
  },
  {
   "cell_type": "markdown",
   "id": "068d2006",
   "metadata": {},
   "source": [
    "## 1.0. String manipulation"
   ]
  },
  {
   "cell_type": "code",
   "execution_count": 2,
   "id": "70cf5160",
   "metadata": {},
   "outputs": [],
   "source": [
    "a = \"ant\"\n",
    "b = \"bat\"\n",
    "\n",
    "sentence = a + b\n",
    "aa = a*2"
   ]
  },
  {
   "cell_type": "code",
   "execution_count": 3,
   "id": "d9be9f78",
   "metadata": {},
   "outputs": [
    {
     "name": "stdout",
     "output_type": "stream",
     "text": [
      "antbat\n"
     ]
    }
   ],
   "source": [
    "print(sentence)"
   ]
  },
  {
   "cell_type": "code",
   "execution_count": 4,
   "id": "4b9e3e2c",
   "metadata": {},
   "outputs": [
    {
     "name": "stdout",
     "output_type": "stream",
     "text": [
      "ant bat\n"
     ]
    }
   ],
   "source": [
    "print(a,b) # Notice the space between cat and bat"
   ]
  },
  {
   "cell_type": "code",
   "execution_count": 5,
   "id": "5dd8856d",
   "metadata": {},
   "outputs": [
    {
     "name": "stdout",
     "output_type": "stream",
     "text": [
      "ant bat !\n"
     ]
    }
   ],
   "source": [
    "print (a, b, \"!\")"
   ]
  },
  {
   "cell_type": "code",
   "execution_count": 6,
   "id": "4c47462f",
   "metadata": {},
   "outputs": [
    {
     "name": "stdout",
     "output_type": "stream",
     "text": [
      "aa value is: antant\n"
     ]
    }
   ],
   "source": [
    "print(\"aa value is:\", aa)"
   ]
  },
  {
   "cell_type": "code",
   "execution_count": 7,
   "id": "f79d7a17",
   "metadata": {},
   "outputs": [],
   "source": [
    "string1 = \"crazy cow kills the tiger\""
   ]
  },
  {
   "cell_type": "code",
   "execution_count": 8,
   "id": "aa29dbd1",
   "metadata": {},
   "outputs": [],
   "source": [
    "string2 = string1[5:9] # slicing a string"
   ]
  },
  {
   "cell_type": "code",
   "execution_count": 9,
   "id": "4ef2478a",
   "metadata": {},
   "outputs": [
    {
     "name": "stdout",
     "output_type": "stream",
     "text": [
      " cow\n"
     ]
    }
   ],
   "source": [
    "print (string2)"
   ]
  },
  {
   "cell_type": "code",
   "execution_count": 10,
   "id": "4bbae2c8",
   "metadata": {},
   "outputs": [
    {
     "data": {
      "text/plain": [
       "'crazy'"
      ]
     },
     "execution_count": 10,
     "metadata": {},
     "output_type": "execute_result"
    }
   ],
   "source": [
    "string1[0:5]"
   ]
  },
  {
   "cell_type": "markdown",
   "id": "7fd77497",
   "metadata": {},
   "source": [
    "#### 1.1 Methods on strings"
   ]
  },
  {
   "cell_type": "code",
   "execution_count": 11,
   "id": "09272ea1",
   "metadata": {},
   "outputs": [
    {
     "data": {
      "text/plain": [
       "'TIGER'"
      ]
     },
     "execution_count": 11,
     "metadata": {},
     "output_type": "execute_result"
    }
   ],
   "source": [
    "\"tiger\".upper()"
   ]
  },
  {
   "cell_type": "code",
   "execution_count": 12,
   "id": "0e2bc9c0",
   "metadata": {},
   "outputs": [
    {
     "data": {
      "text/plain": [
       "'Crazy cow kills the tiger'"
      ]
     },
     "execution_count": 12,
     "metadata": {},
     "output_type": "execute_result"
    }
   ],
   "source": [
    "string1.capitalize()  # Changes the first character to upper case"
   ]
  },
  {
   "cell_type": "code",
   "execution_count": 13,
   "id": "c7451d4e",
   "metadata": {},
   "outputs": [
    {
     "name": "stdout",
     "output_type": "stream",
     "text": [
      "crazy cow kills the lion\n"
     ]
    }
   ],
   "source": [
    "string3 = string1.replace(\"tiger\", \"lion\")\n",
    "print(string3)"
   ]
  },
  {
   "cell_type": "code",
   "execution_count": 14,
   "id": "4067fe6d",
   "metadata": {},
   "outputs": [
    {
     "name": "stdout",
     "output_type": "stream",
     "text": [
      "crazy\n",
      "cow\n",
      "kills\n",
      "the\n",
      "lion\n"
     ]
    }
   ],
   "source": [
    "# splitting the string using for loop (Check flow control -for loop )\n",
    "for words in string3.split():\n",
    "    print(words)"
   ]
  },
  {
   "cell_type": "markdown",
   "id": "e4fdd473",
   "metadata": {},
   "source": [
    "## 2.0 Flow Control: if- else, for loop, while loop"
   ]
  },
  {
   "cell_type": "code",
   "execution_count": 15,
   "id": "ea513bf7",
   "metadata": {},
   "outputs": [
    {
     "name": "stdout",
     "output_type": "stream",
     "text": [
      " To know the price of fruit enter the fruit name\n",
      "Apple\n",
      "4€\n"
     ]
    }
   ],
   "source": [
    "# if-elif-else\n",
    "\n",
    "print(' To know the price of fruit enter the fruit name')\n",
    "\n",
    "fruit = input()\n",
    "\n",
    "if fruit == 'Mango':\n",
    "    print('3€')\n",
    "elif fruit == 'Banana':\n",
    "    print('2€')\n",
    "elif fruit == 'Apple':\n",
    "    print('4€')\n",
    "elif fruit == 'Pineapple':\n",
    "    print('1€')\n",
    "else:\n",
    "    print('Sorry fruit not available')\n",
    "\n",
    "    "
   ]
  },
  {
   "cell_type": "code",
   "execution_count": 16,
   "id": "77e27196",
   "metadata": {},
   "outputs": [
    {
     "name": "stdout",
     "output_type": "stream",
     "text": [
      "0\n",
      "2\n",
      "4\n",
      "6\n",
      "8\n",
      "10\n",
      "12\n",
      "14\n",
      "16\n",
      "18\n"
     ]
    }
   ],
   "source": [
    "# for loop\n",
    "\n",
    "for ind in range(0,20,2):\n",
    "    print(ind)"
   ]
  },
  {
   "cell_type": "code",
   "execution_count": 17,
   "id": "9094b7e0",
   "metadata": {},
   "outputs": [
    {
     "name": "stdout",
     "output_type": "stream",
     "text": [
      "1\n",
      "2\n",
      "3\n",
      "4\n",
      "5\n",
      "6\n",
      "7\n",
      "8\n",
      "9\n",
      "10\n",
      "11\n"
     ]
    }
   ],
   "source": [
    "# While loop\n",
    "\n",
    "index = 0\n",
    "while index <= 10:\n",
    "    index = index + 1\n",
    "    print(index)"
   ]
  },
  {
   "cell_type": "markdown",
   "id": "deed50bb",
   "metadata": {},
   "source": [
    "## 3.0 Lists"
   ]
  },
  {
   "cell_type": "code",
   "execution_count": 18,
   "id": "f4ba05cf",
   "metadata": {},
   "outputs": [],
   "source": [
    "list1 = [1, 3, 5, 7 ,34, 67]"
   ]
  },
  {
   "cell_type": "code",
   "execution_count": 19,
   "id": "16d14ef0",
   "metadata": {},
   "outputs": [
    {
     "data": {
      "text/plain": [
       "6"
      ]
     },
     "execution_count": 19,
     "metadata": {},
     "output_type": "execute_result"
    }
   ],
   "source": [
    "len(list1)"
   ]
  },
  {
   "cell_type": "code",
   "execution_count": 20,
   "id": "ec9abf1d",
   "metadata": {},
   "outputs": [
    {
     "data": {
      "text/plain": [
       "117"
      ]
     },
     "execution_count": 20,
     "metadata": {},
     "output_type": "execute_result"
    }
   ],
   "source": [
    "sum(list1)"
   ]
  },
  {
   "cell_type": "code",
   "execution_count": 21,
   "id": "3ca61942",
   "metadata": {},
   "outputs": [],
   "source": [
    "list2 = list1[-1:-7:-1]"
   ]
  },
  {
   "cell_type": "code",
   "execution_count": 22,
   "id": "e014e864",
   "metadata": {},
   "outputs": [
    {
     "name": "stdout",
     "output_type": "stream",
     "text": [
      "[67, 34, 7, 5, 3, 1]\n"
     ]
    }
   ],
   "source": [
    "print(list1[-1:-7:-1])"
   ]
  },
  {
   "cell_type": "code",
   "execution_count": 23,
   "id": "c917a292",
   "metadata": {},
   "outputs": [],
   "source": [
    "list3 = list1 + list2  # Concatenating the list"
   ]
  },
  {
   "cell_type": "code",
   "execution_count": 24,
   "id": "341bb993",
   "metadata": {},
   "outputs": [
    {
     "name": "stdout",
     "output_type": "stream",
     "text": [
      "[1, 3, 5, 7, 34, 67, 67, 34, 7, 5, 3, 1]\n"
     ]
    }
   ],
   "source": [
    "print(list3)"
   ]
  },
  {
   "cell_type": "code",
   "execution_count": 25,
   "id": "e9cdcb0a",
   "metadata": {},
   "outputs": [
    {
     "name": "stdout",
     "output_type": "stream",
     "text": [
      "[1, 3, 5]\n"
     ]
    }
   ],
   "source": [
    "print(list3[0:3:1])"
   ]
  },
  {
   "cell_type": "markdown",
   "id": "f08facd5",
   "metadata": {},
   "source": [
    "#### 3.1 List Manipulation"
   ]
  },
  {
   "cell_type": "code",
   "execution_count": 26,
   "id": "e0dcb245",
   "metadata": {},
   "outputs": [],
   "source": [
    "# Extending the existing list with another list\n",
    "list1.extend(list3)"
   ]
  },
  {
   "cell_type": "code",
   "execution_count": 27,
   "id": "f7a90c12",
   "metadata": {},
   "outputs": [
    {
     "name": "stdout",
     "output_type": "stream",
     "text": [
      "[1, 3, 5, 7, 34, 67, 1, 3, 5, 7, 34, 67, 67, 34, 7, 5, 3, 1]\n"
     ]
    }
   ],
   "source": [
    "print(list1) # Notice that original list 1 is extended"
   ]
  },
  {
   "cell_type": "code",
   "execution_count": 28,
   "id": "dd49abdc",
   "metadata": {},
   "outputs": [],
   "source": [
    "# Adding list inside list using append\n",
    "list2.append(list3)"
   ]
  },
  {
   "cell_type": "code",
   "execution_count": 29,
   "id": "dd3cec05",
   "metadata": {},
   "outputs": [
    {
     "name": "stdout",
     "output_type": "stream",
     "text": [
      "[67, 34, 7, 5, 3, 1, [1, 3, 5, 7, 34, 67, 67, 34, 7, 5, 3, 1]]\n"
     ]
    }
   ],
   "source": [
    "print(list2) # Notice that list 3 is appended inside original list 2 "
   ]
  },
  {
   "cell_type": "code",
   "execution_count": 30,
   "id": "9e2faf36",
   "metadata": {},
   "outputs": [],
   "source": [
    "# Manipulating elements of list\n",
    "list1[1:4] = [0, 0, 0, 0]   # Assiging elements with index 1 to 4  new values  "
   ]
  },
  {
   "cell_type": "code",
   "execution_count": 31,
   "id": "e16c91b8",
   "metadata": {},
   "outputs": [
    {
     "name": "stdout",
     "output_type": "stream",
     "text": [
      "[1, 0, 0, 0, 0, 34, 67, 1, 3, 5, 7, 34, 67, 67, 34, 7, 5, 3, 1]\n"
     ]
    }
   ],
   "source": [
    "print(list1)"
   ]
  },
  {
   "cell_type": "code",
   "execution_count": 32,
   "id": "b7dde1cd",
   "metadata": {},
   "outputs": [],
   "source": [
    "# Deleting elements in list\n",
    "del list1[:4] # deletes the first four elements"
   ]
  },
  {
   "cell_type": "code",
   "execution_count": 33,
   "id": "ecc963d2",
   "metadata": {},
   "outputs": [
    {
     "name": "stdout",
     "output_type": "stream",
     "text": [
      "[0, 34, 67, 1, 3, 5, 7, 34, 67, 67, 34, 7, 5, 3, 1]\n"
     ]
    }
   ],
   "source": [
    "print(list1)"
   ]
  },
  {
   "cell_type": "code",
   "execution_count": 34,
   "id": "3fb721d6",
   "metadata": {},
   "outputs": [
    {
     "name": "stdout",
     "output_type": "stream",
     "text": [
      "1\n",
      "3\n",
      "5\n",
      "7\n",
      "34\n",
      "67\n",
      "67\n",
      "34\n",
      "7\n",
      "5\n",
      "3\n",
      "1\n"
     ]
    }
   ],
   "source": [
    "# accessing the elements of lists via foor loop\n",
    "for element in list3:\n",
    "    print(element)"
   ]
  },
  {
   "cell_type": "code",
   "execution_count": 35,
   "id": "10c0310c",
   "metadata": {},
   "outputs": [
    {
     "name": "stdout",
     "output_type": "stream",
     "text": [
      "Sum of the elements in third list is:  234\n"
     ]
    }
   ],
   "source": [
    "print(\"Sum of the elements in third list is: \", sum(list3))"
   ]
  },
  {
   "cell_type": "code",
   "execution_count": 36,
   "id": "37b50d03",
   "metadata": {},
   "outputs": [
    {
     "name": "stdout",
     "output_type": "stream",
     "text": [
      "0 : 1\n",
      "1 : 3\n",
      "2 : 5\n",
      "3 : 7\n",
      "4 : 34\n",
      "5 : 67\n",
      "6 : 67\n",
      "7 : 34\n",
      "8 : 7\n",
      "9 : 5\n",
      "10 : 3\n",
      "11 : 1\n"
     ]
    }
   ],
   "source": [
    "# getting index and value via enumerate function in lists\n",
    "\n",
    "for counter, value in enumerate(list3):    \n",
    "    print(counter, \":\", value)"
   ]
  },
  {
   "cell_type": "markdown",
   "id": "30ee51c8",
   "metadata": {},
   "source": [
    "#### 3.2 List inside lists: Accessing and manipulating elements, "
   ]
  },
  {
   "cell_type": "code",
   "execution_count": 37,
   "id": "b4208b6d",
   "metadata": {},
   "outputs": [],
   "source": [
    "list5 = ['Joker', 'bat', 'batmobile', 'batcave', 'alfred']\n",
    "list6 = ['batman', 'superman', 'spiderman', 'ironman']"
   ]
  },
  {
   "cell_type": "code",
   "execution_count": 38,
   "id": "fe570180",
   "metadata": {},
   "outputs": [],
   "source": [
    "# Lists inside list\n",
    "comics_list = [list5, list6]"
   ]
  },
  {
   "cell_type": "code",
   "execution_count": 39,
   "id": "2558fad3",
   "metadata": {},
   "outputs": [
    {
     "name": "stdout",
     "output_type": "stream",
     "text": [
      "[['Joker', 'bat', 'batmobile', 'batcave', 'alfred'], ['batman', 'superman', 'spiderman', 'ironman']]\n"
     ]
    }
   ],
   "source": [
    "print(comics_list)"
   ]
  },
  {
   "cell_type": "code",
   "execution_count": 40,
   "id": "ac31552d",
   "metadata": {},
   "outputs": [
    {
     "name": "stdout",
     "output_type": "stream",
     "text": [
      "spiderman\n"
     ]
    }
   ],
   "source": [
    "print(comics_list[1][2])"
   ]
  },
  {
   "cell_type": "code",
   "execution_count": 41,
   "id": "abbab43a",
   "metadata": {},
   "outputs": [
    {
     "name": "stdout",
     "output_type": "stream",
     "text": [
      "batcave\n"
     ]
    }
   ],
   "source": [
    "print(comics_list[0][3])"
   ]
  },
  {
   "cell_type": "code",
   "execution_count": 42,
   "id": "58e536fc",
   "metadata": {},
   "outputs": [
    {
     "name": "stdout",
     "output_type": "stream",
     "text": [
      "['Joker', 'bat', 'batmobile']\n"
     ]
    }
   ],
   "source": [
    "print(comics_list[0][0:3])"
   ]
  },
  {
   "cell_type": "code",
   "execution_count": 43,
   "id": "1a92f50a",
   "metadata": {},
   "outputs": [
    {
     "data": {
      "text/plain": [
       "True"
      ]
     },
     "execution_count": 43,
     "metadata": {},
     "output_type": "execute_result"
    }
   ],
   "source": [
    "'Joker' in list5"
   ]
  },
  {
   "cell_type": "code",
   "execution_count": 44,
   "id": "a941cc79",
   "metadata": {},
   "outputs": [
    {
     "data": {
      "text/plain": [
       "False"
      ]
     },
     "execution_count": 44,
     "metadata": {},
     "output_type": "execute_result"
    }
   ],
   "source": [
    "'Joker' in comics_list"
   ]
  },
  {
   "cell_type": "code",
   "execution_count": 45,
   "id": "c18ae44b",
   "metadata": {},
   "outputs": [],
   "source": [
    "# Storing output of a for loop in an empty list\n",
    "\n",
    "list8 = []\n",
    "list9 = []"
   ]
  },
  {
   "cell_type": "code",
   "execution_count": 46,
   "id": "56913603",
   "metadata": {},
   "outputs": [
    {
     "name": "stdout",
     "output_type": "stream",
     "text": [
      "0\n",
      "9\n",
      "36\n",
      "81\n",
      "144\n",
      "225\n",
      "324\n",
      "441\n",
      "576\n",
      "729\n"
     ]
    }
   ],
   "source": [
    "for index in range(0,30,3):\n",
    "    sq_in = index**2\n",
    "    list8.append(sq_in)\n",
    "    ran_in = random.randint(0, 20)\n",
    "    list9.append(ran_in)\n",
    "    print(sq_in)"
   ]
  },
  {
   "cell_type": "code",
   "execution_count": 47,
   "id": "0f77a093",
   "metadata": {},
   "outputs": [
    {
     "name": "stdout",
     "output_type": "stream",
     "text": [
      "[0, 9, 36, 81, 144, 225, 324, 441, 576, 729]\n"
     ]
    }
   ],
   "source": [
    "print(list8)"
   ]
  },
  {
   "cell_type": "code",
   "execution_count": 48,
   "id": "864e15cd",
   "metadata": {},
   "outputs": [
    {
     "name": "stdout",
     "output_type": "stream",
     "text": [
      "[5, 2, 2, 3, 1, 12, 2, 20, 10, 5]\n"
     ]
    }
   ],
   "source": [
    "print(list9)"
   ]
  },
  {
   "cell_type": "code",
   "execution_count": 49,
   "id": "756ef9e6",
   "metadata": {},
   "outputs": [
    {
     "name": "stdout",
     "output_type": "stream",
     "text": [
      "[1, 2, 2, 2, 3, 5, 5, 10, 12, 20]\n"
     ]
    }
   ],
   "source": [
    "list9.sort()\n",
    "print(list9)"
   ]
  },
  {
   "cell_type": "code",
   "execution_count": 50,
   "id": "0c213599",
   "metadata": {},
   "outputs": [
    {
     "name": "stdout",
     "output_type": "stream",
     "text": [
      "[324, 729, 441, 9, 144, 0, 576, 225, 81, 36]\n"
     ]
    }
   ],
   "source": [
    "random.shuffle(list8)\n",
    "print(list8)"
   ]
  },
  {
   "cell_type": "code",
   "execution_count": 51,
   "id": "65e8fcef",
   "metadata": {},
   "outputs": [
    {
     "name": "stdout",
     "output_type": "stream",
     "text": [
      "[729, 576, 441, 324, 225, 144, 81, 36, 9, 0]\n"
     ]
    }
   ],
   "source": [
    "list8.sort(reverse = True)  # Sorting the list in reverse order\n",
    "print(list8)"
   ]
  },
  {
   "cell_type": "code",
   "execution_count": 52,
   "id": "38a7a54c",
   "metadata": {},
   "outputs": [
    {
     "name": "stdout",
     "output_type": "stream",
     "text": [
      "[1, 2, 2, 2, 3, 5, 5, 12, 20]\n"
     ]
    }
   ],
   "source": [
    "list9.remove(10)  # removing specific element from the list\n",
    "print(list9)"
   ]
  },
  {
   "cell_type": "code",
   "execution_count": 53,
   "id": "f297b7ea",
   "metadata": {},
   "outputs": [
    {
     "name": "stdout",
     "output_type": "stream",
     "text": [
      "[500, 1, 2, 2, 2, 3, 5, 5, 12, 20]\n"
     ]
    }
   ],
   "source": [
    "list9.insert(0, 500)   # inserting 500 on 0th index\n",
    "print(list9)"
   ]
  },
  {
   "cell_type": "code",
   "execution_count": 54,
   "id": "f424fcd7",
   "metadata": {},
   "outputs": [
    {
     "name": "stdout",
     "output_type": "stream",
     "text": [
      "[500, 1, 2, 2, 2, 3, 5, 5, 12, 20, 1000]\n"
     ]
    }
   ],
   "source": [
    "list9.append(1000)\n",
    "print(list9)"
   ]
  },
  {
   "cell_type": "markdown",
   "id": "2442377e",
   "metadata": {},
   "source": [
    "## 4.0 Dictionary"
   ]
  },
  {
   "cell_type": "code",
   "execution_count": 55,
   "id": "7c696c80",
   "metadata": {},
   "outputs": [],
   "source": [
    "my_dict1 = {\n",
    "    \"name\": \"John\",\n",
    "    \"age\" : \"30\",\n",
    "    \"salary\" : \"5000\",\n",
    "    \"city\" : \"Berlin\"\n",
    "}"
   ]
  },
  {
   "cell_type": "code",
   "execution_count": 56,
   "id": "e86702da",
   "metadata": {},
   "outputs": [
    {
     "name": "stdout",
     "output_type": "stream",
     "text": [
      "{'name': 'John', 'age': '30', 'salary': '5000', 'city': 'Berlin'}\n"
     ]
    }
   ],
   "source": [
    " print(my_dict1)"
   ]
  },
  {
   "cell_type": "code",
   "execution_count": 57,
   "id": "204ac764",
   "metadata": {},
   "outputs": [
    {
     "name": "stdout",
     "output_type": "stream",
     "text": [
      "my name is: John\n"
     ]
    }
   ],
   "source": [
    "print('my name is:', my_dict1['name'])"
   ]
  },
  {
   "cell_type": "code",
   "execution_count": 58,
   "id": "a2ad5a89",
   "metadata": {},
   "outputs": [
    {
     "data": {
      "text/plain": [
       "dict_values(['John', '30', '5000', 'Berlin'])"
      ]
     },
     "execution_count": 58,
     "metadata": {},
     "output_type": "execute_result"
    }
   ],
   "source": [
    "my_dict1.values()"
   ]
  },
  {
   "cell_type": "code",
   "execution_count": 59,
   "id": "5ca8060a",
   "metadata": {},
   "outputs": [
    {
     "data": {
      "text/plain": [
       "dict_keys(['name', 'age', 'salary', 'city'])"
      ]
     },
     "execution_count": 59,
     "metadata": {},
     "output_type": "execute_result"
    }
   ],
   "source": [
    "my_dict1.keys()"
   ]
  },
  {
   "cell_type": "code",
   "execution_count": 60,
   "id": "c5fc1e98",
   "metadata": {},
   "outputs": [],
   "source": [
    "my_dict1['education'] = 'Universität Siegen' # Assigning a new key value pair in my_dict1"
   ]
  },
  {
   "cell_type": "code",
   "execution_count": 61,
   "id": "f1233d77",
   "metadata": {},
   "outputs": [
    {
     "data": {
      "text/plain": [
       "dict_items([('name', 'John'), ('age', '30'), ('salary', '5000'), ('city', 'Berlin'), ('education', 'Universität Siegen')])"
      ]
     },
     "execution_count": 61,
     "metadata": {},
     "output_type": "execute_result"
    }
   ],
   "source": [
    "my_dict1.items()"
   ]
  },
  {
   "cell_type": "markdown",
   "id": "61f56682",
   "metadata": {},
   "source": [
    "#### 4.1 Aceessing and manipulating items in dictionary "
   ]
  },
  {
   "cell_type": "code",
   "execution_count": 62,
   "id": "856b8252",
   "metadata": {},
   "outputs": [],
   "source": [
    "mycity = {'name': 'Siegen', 'population': '120k', 'transport': 'bus', 'code': '57076'}"
   ]
  },
  {
   "cell_type": "code",
   "execution_count": 63,
   "id": "f382fa95",
   "metadata": {},
   "outputs": [
    {
     "name": "stdout",
     "output_type": "stream",
     "text": [
      "name\n",
      "population\n",
      "transport\n",
      "code\n"
     ]
    }
   ],
   "source": [
    "for k in mycity.keys():\n",
    "    print(k)"
   ]
  },
  {
   "cell_type": "code",
   "execution_count": 64,
   "id": "205bbf5d",
   "metadata": {},
   "outputs": [
    {
     "name": "stdout",
     "output_type": "stream",
     "text": [
      "('name', 'Siegen')\n",
      "('population', '120k')\n",
      "('transport', 'bus')\n",
      "('code', '57076')\n"
     ]
    }
   ],
   "source": [
    "for i in mycity.items():\n",
    "    print(i)"
   ]
  },
  {
   "cell_type": "code",
   "execution_count": 65,
   "id": "674033d5",
   "metadata": {},
   "outputs": [
    {
     "data": {
      "text/plain": [
       "'120k'"
      ]
     },
     "execution_count": 65,
     "metadata": {},
     "output_type": "execute_result"
    }
   ],
   "source": [
    "mycity.get('population', 0)"
   ]
  },
  {
   "cell_type": "code",
   "execution_count": 66,
   "id": "81721f71",
   "metadata": {},
   "outputs": [
    {
     "data": {
      "text/plain": [
       "True"
      ]
     },
     "execution_count": 66,
     "metadata": {},
     "output_type": "execute_result"
    }
   ],
   "source": [
    "'name' in mycity"
   ]
  },
  {
   "cell_type": "code",
   "execution_count": 67,
   "id": "1e464d41",
   "metadata": {},
   "outputs": [
    {
     "data": {
      "text/plain": [
       "False"
      ]
     },
     "execution_count": 67,
     "metadata": {},
     "output_type": "execute_result"
    }
   ],
   "source": [
    "'name' in mycity.values() "
   ]
  },
  {
   "cell_type": "code",
   "execution_count": 68,
   "id": "9d46ec6e",
   "metadata": {},
   "outputs": [],
   "source": [
    "mycity2 = dict(name = 'Paris', population = '3200k', transport = 'train', code = '75000')"
   ]
  },
  {
   "cell_type": "code",
   "execution_count": 69,
   "id": "55ab1346",
   "metadata": {},
   "outputs": [
    {
     "data": {
      "text/plain": [
       "'3200k'"
      ]
     },
     "execution_count": 69,
     "metadata": {},
     "output_type": "execute_result"
    }
   ],
   "source": [
    "mycity2['population']"
   ]
  },
  {
   "cell_type": "code",
   "execution_count": 70,
   "id": "0bcc43c5",
   "metadata": {},
   "outputs": [],
   "source": [
    "mycity2['education'] = 'University of Paris' # Adding a new key value pair in dictionary"
   ]
  },
  {
   "cell_type": "code",
   "execution_count": 71,
   "id": "95336c10",
   "metadata": {},
   "outputs": [
    {
     "name": "stdout",
     "output_type": "stream",
     "text": [
      "Paris\n",
      "3200k\n",
      "train\n",
      "75000\n",
      "University of Paris\n"
     ]
    }
   ],
   "source": [
    "for v in mycity2.values():\n",
    "    print(v)"
   ]
  },
  {
   "cell_type": "code",
   "execution_count": 72,
   "id": "fd8de50b",
   "metadata": {},
   "outputs": [
    {
     "data": {
      "text/plain": [
       "'train'"
      ]
     },
     "execution_count": 72,
     "metadata": {},
     "output_type": "execute_result"
    }
   ],
   "source": [
    "mycity2.pop('transport')  # Removing a key value pair "
   ]
  },
  {
   "cell_type": "code",
   "execution_count": 73,
   "id": "5957c514",
   "metadata": {},
   "outputs": [
    {
     "name": "stdout",
     "output_type": "stream",
     "text": [
      "('name', 'Paris')\n",
      "('population', '3200k')\n",
      "('code', '75000')\n",
      "('education', 'University of Paris')\n"
     ]
    }
   ],
   "source": [
    "for i in mycity2.items():\n",
    "    print(i)"
   ]
  },
  {
   "cell_type": "markdown",
   "id": "12864149",
   "metadata": {},
   "source": [
    "#### 4.2 Dictionaries inside List "
   ]
  },
  {
   "cell_type": "code",
   "execution_count": 74,
   "id": "84b04e25",
   "metadata": {},
   "outputs": [],
   "source": [
    "### Employee database\n",
    "\n",
    "Info_Jake_ = {\n",
    "    \"name\": \"Jake\",\n",
    "    \"age\" : \"31\",\n",
    "    \"salary\" : \"5400\",\n",
    "    \"city\" : \"Berlin\",\n",
    "    \"emp_id\" : \"0001\"\n",
    "}\n",
    "\n",
    "\n",
    "Info_Michael_ = {\n",
    "    \"name\": \"Michael\",\n",
    "    \"age\" : \"29\",\n",
    "    \"salary\" : \"5800\",\n",
    "    \"city\" : \"Munich\",\n",
    "    \"emp_id\" : \"0002\"\n",
    "}\n",
    "\n",
    "Info_Lena_ = {\n",
    "    \"name\": \"Lena\",\n",
    "    \"age\" : \"28\",\n",
    "    \"salary\" : \"6800\",\n",
    "    \"city\" : \"Hamburg\",\n",
    "    \"emp_id\" : \"0003\"\n",
    "}\n",
    "\n",
    "Info_Julia_ = {\n",
    "    \"name\": \"Julia\",\n",
    "    \"age\" : \"23\",\n",
    "    \"salary\" : \"4000\",\n",
    "    \"city\" : \"Siegen\",\n",
    "    \"emp_id\" : \"0004\"\n",
    "}\n",
    "\n",
    "\n"
   ]
  },
  {
   "cell_type": "code",
   "execution_count": 75,
   "id": "f4722223",
   "metadata": {},
   "outputs": [],
   "source": [
    "Info_Emp_list = [Info_Jake_, Info_Michael_, Info_Lena_, Info_Julia_]"
   ]
  },
  {
   "cell_type": "code",
   "execution_count": 76,
   "id": "89c04ad0",
   "metadata": {},
   "outputs": [
    {
     "name": "stdout",
     "output_type": "stream",
     "text": [
      "[{'age': '31',\n",
      "  'city': 'Berlin',\n",
      "  'emp_id': '0001',\n",
      "  'name': 'Jake',\n",
      "  'salary': '5400'},\n",
      " {'age': '29',\n",
      "  'city': 'Munich',\n",
      "  'emp_id': '0002',\n",
      "  'name': 'Michael',\n",
      "  'salary': '5800'},\n",
      " {'age': '28',\n",
      "  'city': 'Hamburg',\n",
      "  'emp_id': '0003',\n",
      "  'name': 'Lena',\n",
      "  'salary': '6800'},\n",
      " {'age': '23',\n",
      "  'city': 'Siegen',\n",
      "  'emp_id': '0004',\n",
      "  'name': 'Julia',\n",
      "  'salary': '4000'}]\n"
     ]
    }
   ],
   "source": [
    "pprint.pprint(Info_Emp_list)"
   ]
  },
  {
   "cell_type": "markdown",
   "id": "accf50b5",
   "metadata": {},
   "source": [
    "## 5.0 Functions\n",
    "\n",
    "A function is a block of organized, reusable code that is used to perform a single, related action. [5.1] Functions are first class objects. When they are attached to objects they are called methods. Functions can be assigend to:\n",
    "* Variable\n",
    "* An item in list\n",
    "* passed as an argument to another function\n",
    "\n",
    "\n",
    "\n",
    "#### Global and Local Variables\n",
    "\n",
    "[5.2] Variables that are defined inside a function body have a local scope, and those defined outside have a global scope. Global variables are variables declared outside the function body. These cannot be modified within function. Global variables can be accessed throughout the program body by all functions. Local variables can be accessed only inside the function in which they are declared.\n",
    "\n",
    "**References**:\n",
    "\n",
    "[5.1] : SciPy Documentation\\\n",
    "[5.2] : Software Engineering Course at Universität Siegen, Instructors: Dr. Christian Weber, Hasan Abu Rashid\n"
   ]
  },
  {
   "cell_type": "code",
   "execution_count": 77,
   "id": "9d031c92",
   "metadata": {},
   "outputs": [],
   "source": [
    "### Local and global variable\n",
    "\n",
    "csm_2 = 100\n",
    "def cube_sum(arg1, arg2):\n",
    "    \"\"\" This program takes two arguments, \n",
    "    takes cube of the arguments and adds them \"\"\"\n",
    "    csm_2 = arg1**3 + arg2**3\n",
    "    print('Value of local variable csm_2 :', csm_2)\n",
    "    return csm_2;\n",
    "    \n",
    "    "
   ]
  },
  {
   "cell_type": "code",
   "execution_count": 78,
   "id": "84257d1e",
   "metadata": {},
   "outputs": [
    {
     "name": "stdout",
     "output_type": "stream",
     "text": [
      "Value of local variable csm_2 : 35\n"
     ]
    },
    {
     "data": {
      "text/plain": [
       "35"
      ]
     },
     "execution_count": 78,
     "metadata": {},
     "output_type": "execute_result"
    }
   ],
   "source": [
    "cube_sum(2,3)"
   ]
  },
  {
   "cell_type": "code",
   "execution_count": 79,
   "id": "807266d6",
   "metadata": {},
   "outputs": [
    {
     "name": "stdout",
     "output_type": "stream",
     "text": [
      "Value of global variable csm_2 : 100\n"
     ]
    }
   ],
   "source": [
    "print('Value of global variable csm_2 :', csm_2)"
   ]
  },
  {
   "cell_type": "code",
   "execution_count": 80,
   "id": "86bc82c7",
   "metadata": {},
   "outputs": [],
   "source": [
    "### Function with default arguments\n",
    "\n",
    "def Marriage_maker ():\n",
    "    \n",
    "    \"\"\" This function takes the name and age of bride and groom \\\n",
    "    and tries to predict the possibility of the marriage \"\"\"\n",
    "    \n",
    "    print('What is the name of Groom? :' )\n",
    "    Groom = input()\n",
    "    print('What is age of %s Groom in years:' %(Groom) )\n",
    "    P1_age = float(input())\n",
    "    \n",
    "    print('What is the name of Bride? :' )\n",
    "    Bride = input() \n",
    "    print('What is age of %s in years:' %(Bride))\n",
    "    P2_age = float(input())\n",
    "    \n",
    "    if P1_age-P2_age >=10:\n",
    "        print('This marriage cannot happen')   \n",
    "    else:\n",
    "        print('Let it be known that %s and %s are one heart, one flesh, one soul.'\\\n",
    "             %(Groom, Bride))\n",
    "    "
   ]
  },
  {
   "cell_type": "code",
   "execution_count": 81,
   "id": "1ab33186",
   "metadata": {},
   "outputs": [
    {
     "name": "stdout",
     "output_type": "stream",
     "text": [
      "What is the name of Groom? :\n",
      "John\n",
      "What is age of John Groom in years:\n",
      "31\n",
      "What is the name of Bride? :\n",
      "Julia\n",
      "What is age of Julia in years:\n",
      "23\n",
      "Let it be known that John and Julia are one heart, one flesh, one soul.\n"
     ]
    }
   ],
   "source": [
    "Marriage_maker()"
   ]
  },
  {
   "cell_type": "code",
   "execution_count": 82,
   "id": "e3206e33",
   "metadata": {},
   "outputs": [],
   "source": [
    "### Function with variable length arguments as input\n",
    "\n",
    "def Info_person(First_name, *other_info):\n",
    "    print(\"You give the following information about: %s\"  %(First_name))\n",
    "    for info in other_info:\n",
    "        print(info)\n",
    "    return"
   ]
  },
  {
   "cell_type": "code",
   "execution_count": 83,
   "id": "1c35fc74",
   "metadata": {},
   "outputs": [
    {
     "name": "stdout",
     "output_type": "stream",
     "text": [
      "You give the following information about: Jake\n",
      "Berlin\n",
      "31\n",
      "You give the following information about: Julia\n",
      "Siegen\n",
      "Married\n",
      "No criminal record\n",
      "23\n"
     ]
    }
   ],
   "source": [
    "Info_person('Jake','Berlin', 31)\n",
    "Info_person('Julia','Siegen', 'Married', 'No criminal record', 23)"
   ]
  },
  {
   "cell_type": "code",
   "execution_count": 84,
   "id": "9fa14e1d",
   "metadata": {},
   "outputs": [],
   "source": [
    "### Function with required arguments\n",
    "\n",
    "def Pythagorean_distance(x1, x2):\n",
    "    x_py_2 = x1**2 + x2**2\n",
    "    x_py = math.sqrt(x_py_2)\n",
    "    return x_py"
   ]
  },
  {
   "cell_type": "code",
   "execution_count": 85,
   "id": "1d9356b1",
   "metadata": {},
   "outputs": [
    {
     "data": {
      "text/plain": [
       "13.0"
      ]
     },
     "execution_count": 85,
     "metadata": {},
     "output_type": "execute_result"
    }
   ],
   "source": [
    "Pythagorean_distance(12, 5)\n"
   ]
  },
  {
   "cell_type": "code",
   "execution_count": 86,
   "id": "0a707a97",
   "metadata": {},
   "outputs": [],
   "source": [
    "### factorial Function\n",
    "\n",
    "def Factorial():\n",
    "    n = int(input(\"Enter a positive integer for which you want to calculate the factorial: \"))\n",
    "    fact = 1\n",
    "    \n",
    "    val = int(n)\n",
    "    if val < 0:\n",
    "        print(\"Entered number is not a positive integer, Please enter a positive integer\")\n",
    "        \n",
    "    else:\n",
    "        print(\"You entered a positive integer: %s\" % (n))\n",
    "        while(n>0):\n",
    "            fact=fact*n\n",
    "            n=n-1\n",
    "        print(\"Factorial of the entered number is %s: \" %(fact))\n"
   ]
  },
  {
   "cell_type": "code",
   "execution_count": 87,
   "id": "2e17d9a1",
   "metadata": {},
   "outputs": [
    {
     "name": "stdout",
     "output_type": "stream",
     "text": [
      "Enter a positive integer for which you want to calculate the factorial: 30\n",
      "You entered a positive integer: 30\n",
      "Factorial of the entered number is 265252859812191058636308480000000: \n",
      "Wall time: 6.42 s\n"
     ]
    }
   ],
   "source": [
    "%%time\n",
    "Factorial()"
   ]
  },
  {
   "cell_type": "markdown",
   "id": "e858ed86",
   "metadata": {},
   "source": [
    "#### 5.2 Entering dictionary and list values as argument to function: "
   ]
  },
  {
   "cell_type": "code",
   "execution_count": 88,
   "id": "4ed19e4e",
   "metadata": {},
   "outputs": [],
   "source": [
    "dist_2 = {\"s1\" :3 , \"s2\" : 4} "
   ]
  },
  {
   "cell_type": "code",
   "execution_count": 89,
   "id": "5fe95766",
   "metadata": {},
   "outputs": [
    {
     "data": {
      "text/plain": [
       "5.0"
      ]
     },
     "execution_count": 89,
     "metadata": {},
     "output_type": "execute_result"
    }
   ],
   "source": [
    "Pythagorean_distance(dist_2[\"s1\"],dist_2[\"s2\"])  # Keyword arguments"
   ]
  },
  {
   "cell_type": "code",
   "execution_count": 90,
   "id": "7340c5d0",
   "metadata": {},
   "outputs": [],
   "source": [
    "list_2_args = [5, 12]  "
   ]
  },
  {
   "cell_type": "code",
   "execution_count": 91,
   "id": "81483d21",
   "metadata": {},
   "outputs": [
    {
     "data": {
      "text/plain": [
       "13.0"
      ]
     },
     "execution_count": 91,
     "metadata": {},
     "output_type": "execute_result"
    }
   ],
   "source": [
    "Pythagorean_distance(*list_2_args)  # Positional arguments"
   ]
  },
  {
   "cell_type": "code",
   "execution_count": 92,
   "id": "5f645f44",
   "metadata": {},
   "outputs": [
    {
     "data": {
      "text/plain": [
       "25.0"
      ]
     },
     "execution_count": 92,
     "metadata": {},
     "output_type": "execute_result"
    }
   ],
   "source": [
    "Pythagorean_distance(*[7,24])   # Positional arguments"
   ]
  }
 ],
 "metadata": {
  "kernelspec": {
   "display_name": "Python 3 (ipykernel)",
   "language": "python",
   "name": "python3"
  },
  "language_info": {
   "codemirror_mode": {
    "name": "ipython",
    "version": 3
   },
   "file_extension": ".py",
   "mimetype": "text/x-python",
   "name": "python",
   "nbconvert_exporter": "python",
   "pygments_lexer": "ipython3",
   "version": "3.9.7"
  }
 },
 "nbformat": 4,
 "nbformat_minor": 5
}
