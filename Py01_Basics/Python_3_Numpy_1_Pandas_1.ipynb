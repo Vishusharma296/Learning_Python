{
 "cells": [
  {
   "cell_type": "markdown",
   "id": "4084071e",
   "metadata": {},
   "source": [
    "#  Numerical Computing with Numpy - 1\n",
    "## Practice Notebook 3.1\n",
    "#### Numpy, Pandas\n",
    "\n",
    "This is a basic of Numpy with python 3.0 practice notebook which covers the following topics:\n",
    "\n",
    "* Numpy\n",
    "* Pandas\n",
    "* SciPy\n",
    "\n",
    "\n",
    "It would roughly take 1 hour to comple this notebook. \n",
    "\n",
    "Feel free to write me feedback at vishusharma296@gmail.com\n",
    "\n",
    "**Author: Vishu Sharma**\\\n",
    "Last updated: 19.02.2022\\\n",
    "First Version: 14.02.2022\\\n",
    "Version: 02_2022\n",
    "\n",
    "#### Sources to learn Numpy, SciPy, Pandas, Matplotlib:\n",
    "\n",
    "\n",
    "* [Numpy User guide](https://numpy.org/doc/stable/numpy-user.pdf)\n",
    "* [Pandas User guide](https://pandas.pydata.org/docs/user_guide/index.html)\n",
    "* [Scipy Lecture Notes](http://scipy-lectures.org/index.html)\n",
    "* [Matplotlib](http://scipy-lectures.org/intro/matplotlib/index.html)\n"
   ]
  },
  {
   "cell_type": "code",
   "execution_count": 1,
   "id": "f82b0fa8",
   "metadata": {},
   "outputs": [],
   "source": [
    "# Importing Libraries\n",
    "\n",
    "import numpy as np\n",
    "import math\n",
    "import pandas as pd\n",
    "from scipy import linalg"
   ]
  },
  {
   "cell_type": "markdown",
   "id": "f3e3c98b",
   "metadata": {},
   "source": [
    "## 1.0 Numpy "
   ]
  },
  {
   "cell_type": "markdown",
   "id": "e6e07cef",
   "metadata": {},
   "source": [
    "#### Basic array creation "
   ]
  },
  {
   "cell_type": "code",
   "execution_count": 2,
   "id": "1b0e91a0",
   "metadata": {},
   "outputs": [
    {
     "name": "stdout",
     "output_type": "stream",
     "text": [
      "[ 5  7  9 11 13 15 17 19]\n"
     ]
    }
   ],
   "source": [
    "# creating a 1D array using arange with specific step size between range\n",
    "x_test_array1 = np.arange(5,20,2)\n",
    "print(x_test_array1)"
   ]
  },
  {
   "cell_type": "code",
   "execution_count": 3,
   "id": "31307937",
   "metadata": {},
   "outputs": [
    {
     "name": "stdout",
     "output_type": "stream",
     "text": [
      "[  0.  25.  50.  75. 100.]\n"
     ]
    }
   ],
   "source": [
    "# creating a 1D array using linspace with specific number of elements between range\n",
    "x_test_array2 = np.linspace(0, 100, 5)\n",
    "print(x_test_array2)"
   ]
  },
  {
   "cell_type": "code",
   "execution_count": 4,
   "id": "f3f2e4dc",
   "metadata": {},
   "outputs": [
    {
     "name": "stdout",
     "output_type": "stream",
     "text": [
      "[89. 29. 59. 36. 45. 67.]\n"
     ]
    }
   ],
   "source": [
    "# specifying the data type of array\n",
    "x_input = np.array([89, 29, 59, 36, 45, 67], dtype=float)  \n",
    "print(x_input)"
   ]
  },
  {
   "cell_type": "code",
   "execution_count": 5,
   "id": "6ad05b76",
   "metadata": {},
   "outputs": [
    {
     "name": "stdout",
     "output_type": "stream",
     "text": [
      "[[5 0 1 6 5 8]\n",
      " [5 3 4 8 8 3]\n",
      " [1 4 5 0 1 4]\n",
      " [2 2 4 4 5 5]\n",
      " [0 7 0 6 8 0]\n",
      " [8 7 5 5 0 6]]\n"
     ]
    }
   ],
   "source": [
    "# Creating 2-D array using random\n",
    "w_weights1 = np.random.randint(9, size = (6,6))   \n",
    "print(w_weights1)"
   ]
  },
  {
   "cell_type": "code",
   "execution_count": 6,
   "id": "8bef9ad9",
   "metadata": {},
   "outputs": [
    {
     "name": "stdout",
     "output_type": "stream",
     "text": [
      "[[1. 0. 0. 0. 0. 0.]\n",
      " [0. 1. 0. 0. 0. 0.]\n",
      " [0. 0. 1. 0. 0. 0.]]\n"
     ]
    }
   ],
   "source": [
    "# Creating 2-D array using eye \n",
    "w_weights2 = np.eye(3, 6)\n",
    "print(w_weights2)"
   ]
  },
  {
   "cell_type": "code",
   "execution_count": 7,
   "id": "e2fd3e31",
   "metadata": {},
   "outputs": [
    {
     "name": "stdout",
     "output_type": "stream",
     "text": [
      "[[0. 0. 0.]\n",
      " [0. 0. 0.]\n",
      " [0. 0. 0.]\n",
      " [0. 0. 0.]\n",
      " [0. 0. 0.]\n",
      " [0. 0. 0.]]\n"
     ]
    }
   ],
   "source": [
    "# Creating 2-D array using zeros\n",
    "w_weights3 = np.zeros((6,3))\n",
    "print(w_weights3)"
   ]
  },
  {
   "cell_type": "code",
   "execution_count": 8,
   "id": "1fbaf017",
   "metadata": {},
   "outputs": [
    {
     "name": "stdout",
     "output_type": "stream",
     "text": [
      "[[1. 1. 1. 1. 1. 1.]]\n"
     ]
    }
   ],
   "source": [
    "# Creating 2-D array using ones\n",
    "w_weights4 = np.ones((1,6))\n",
    "print(w_weights4)"
   ]
  },
  {
   "cell_type": "code",
   "execution_count": 9,
   "id": "94f46216",
   "metadata": {},
   "outputs": [
    {
     "name": "stdout",
     "output_type": "stream",
     "text": [
      "[[1 0 0 0 0 0]\n",
      " [0 2 0 0 0 0]\n",
      " [0 0 3 0 0 0]\n",
      " [0 0 0 4 0 0]\n",
      " [0 0 0 0 5 0]\n",
      " [0 0 0 0 0 6]]\n"
     ]
    }
   ],
   "source": [
    "# Creating 2-D array using diagonal elements\n",
    "w_weights5 = np.diag([1, 2, 3, 4, 5, 6])\n",
    "print(w_weights5)"
   ]
  },
  {
   "cell_type": "code",
   "execution_count": 10,
   "id": "181b7278",
   "metadata": {},
   "outputs": [
    {
     "name": "stdout",
     "output_type": "stream",
     "text": [
      "[[[1 8 5 5 6 7]\n",
      "  [8 8 2 4 3 0]\n",
      "  [6 7 0 6 2 6]]\n",
      "\n",
      " [[3 2 2 3 4 0]\n",
      "  [7 8 3 1 0 7]\n",
      "  [2 8 4 7 4 2]]]\n"
     ]
    }
   ],
   "source": [
    "# Creating pxqxr dimension array\n",
    "w_weights6 = np.random.randint(9, size = (2,3,6))\n",
    "print(w_weights6)"
   ]
  },
  {
   "cell_type": "markdown",
   "id": "253f5615",
   "metadata": {},
   "source": [
    "#### Accesing elements, indexing, some common functions on arrays"
   ]
  },
  {
   "cell_type": "code",
   "execution_count": 11,
   "id": "0a15886e",
   "metadata": {},
   "outputs": [
    {
     "data": {
      "text/plain": [
       "numpy.ndarray"
      ]
     },
     "execution_count": 11,
     "metadata": {},
     "output_type": "execute_result"
    }
   ],
   "source": [
    "type(w_weights1)  # Data type of array"
   ]
  },
  {
   "cell_type": "code",
   "execution_count": 12,
   "id": "9dd726dd",
   "metadata": {},
   "outputs": [
    {
     "data": {
      "text/plain": [
       "(6, 6)"
      ]
     },
     "execution_count": 12,
     "metadata": {},
     "output_type": "execute_result"
    }
   ],
   "source": [
    "w_weights5.shape # Shape of array"
   ]
  },
  {
   "cell_type": "code",
   "execution_count": 13,
   "id": "054bfd3f",
   "metadata": {},
   "outputs": [
    {
     "data": {
      "text/plain": [
       "6"
      ]
     },
     "execution_count": 13,
     "metadata": {},
     "output_type": "execute_result"
    }
   ],
   "source": [
    "np.size(x_input) # size of array"
   ]
  },
  {
   "cell_type": "code",
   "execution_count": 14,
   "id": "4da451e6",
   "metadata": {},
   "outputs": [
    {
     "name": "stdout",
     "output_type": "stream",
     "text": [
      "36.0\n"
     ]
    }
   ],
   "source": [
    "print(x_input[3])  # accessing element at specific index"
   ]
  },
  {
   "cell_type": "code",
   "execution_count": 15,
   "id": "ed3160f2",
   "metadata": {},
   "outputs": [
    {
     "name": "stdout",
     "output_type": "stream",
     "text": [
      "4\n"
     ]
    }
   ],
   "source": [
    "print(w_weights5[3][3]) # accessing element at specific index"
   ]
  },
  {
   "cell_type": "markdown",
   "id": "79291196",
   "metadata": {},
   "source": [
    "#### Addition, subtraction,  other mathematical operations, broadcasting"
   ]
  },
  {
   "cell_type": "code",
   "execution_count": 16,
   "id": "310d4bfd",
   "metadata": {},
   "outputs": [
    {
     "name": "stdout",
     "output_type": "stream",
     "text": [
      "[[ 6  0  1  6  5  8]\n",
      " [ 5  5  4  8  8  3]\n",
      " [ 1  4  8  0  1  4]\n",
      " [ 2  2  4  8  5  5]\n",
      " [ 0  7  0  6 13  0]\n",
      " [ 8  7  5  5  0 12]]\n"
     ]
    }
   ],
   "source": [
    "# Element wise addition\n",
    "y_weights_add = w_weights1 + w_weights5\n",
    "print(y_weights_add)"
   ]
  },
  {
   "cell_type": "code",
   "execution_count": 17,
   "id": "a88cb232",
   "metadata": {},
   "outputs": [
    {
     "name": "stdout",
     "output_type": "stream",
     "text": [
      "[[2. 1. 1. 1. 1. 1.]\n",
      " [1. 3. 1. 1. 1. 1.]\n",
      " [1. 1. 4. 1. 1. 1.]\n",
      " [1. 1. 1. 5. 1. 1.]\n",
      " [1. 1. 1. 1. 6. 1.]\n",
      " [1. 1. 1. 1. 1. 7.]]\n"
     ]
    }
   ],
   "source": [
    "# Broadcasting of array 1x6 and 6x6\n",
    "y_weights_broad1 = w_weights4 + w_weights5\n",
    "print(y_weights_broad1)"
   ]
  },
  {
   "cell_type": "code",
   "execution_count": 18,
   "id": "6281ad04",
   "metadata": {},
   "outputs": [],
   "source": [
    "x_1 = np.array([1, 3, 5])\n",
    "x_2 = np.array([2,4, 6])"
   ]
  },
  {
   "cell_type": "code",
   "execution_count": 19,
   "id": "729a4aa7",
   "metadata": {},
   "outputs": [
    {
     "name": "stdout",
     "output_type": "stream",
     "text": [
      "[ 2 12 30]\n"
     ]
    }
   ],
   "source": [
    "# Element wise multiplication\n",
    "y_1 = x_1 * x_2  \n",
    "print(y_1)"
   ]
  },
  {
   "cell_type": "markdown",
   "id": "c03c5048",
   "metadata": {},
   "source": [
    "#### Matrix - Vector  multiplication"
   ]
  },
  {
   "cell_type": "code",
   "execution_count": 20,
   "id": "55bb8689",
   "metadata": {},
   "outputs": [
    {
     "name": "stdout",
     "output_type": "stream",
     "text": [
      "[1481. 1617.  813. 1176.  779. 1792.]\n",
      "Wall time: 15.3 ms\n"
     ]
    }
   ],
   "source": [
    "%%time\n",
    "\n",
    "# dot product\n",
    "y_output = np.dot(w_weights1, x_input)  \n",
    "print(y_output)"
   ]
  },
  {
   "cell_type": "code",
   "execution_count": 21,
   "id": "abe609f2",
   "metadata": {},
   "outputs": [
    {
     "name": "stdout",
     "output_type": "stream",
     "text": [
      "[1481. 1617.  813. 1176.  779. 1792.]\n",
      "Wall time: 1.02 ms\n"
     ]
    }
   ],
   "source": [
    "%%time\n",
    "\n",
    "# matrix- vector multiplication\n",
    "y_output2 = np.matmul(w_weights1, x_input) \n",
    "print(y_output2)"
   ]
  },
  {
   "cell_type": "code",
   "execution_count": 22,
   "id": "9927f219",
   "metadata": {},
   "outputs": [
    {
     "name": "stdout",
     "output_type": "stream",
     "text": [
      "[1481. 1617.  813. 1176.  779. 1792.]\n",
      "Wall time: 0 ns\n"
     ]
    }
   ],
   "source": [
    "%%time\n",
    "\n",
    "# @ opeartor for matrix multiplication\n",
    "y_output3 = w_weights1 @ x_input \n",
    "print(y_output3)"
   ]
  },
  {
   "cell_type": "markdown",
   "id": "8bf6f384",
   "metadata": {},
   "source": [
    "#### Numpy Functions"
   ]
  },
  {
   "cell_type": "code",
   "execution_count": 23,
   "id": "d5cdc5e2",
   "metadata": {},
   "outputs": [
    {
     "data": {
      "text/plain": [
       "44"
      ]
     },
     "execution_count": 23,
     "metadata": {},
     "output_type": "execute_result"
    }
   ],
   "source": [
    "# sum function\n",
    "y_1.sum()"
   ]
  },
  {
   "cell_type": "code",
   "execution_count": 24,
   "id": "8a8dff85",
   "metadata": {},
   "outputs": [
    {
     "name": "stdout",
     "output_type": "stream",
     "text": [
      "[1 3 5 2 4 6]\n"
     ]
    }
   ],
   "source": [
    "# concatenation along axis 0\n",
    "x_3 = np.concatenate((x_1, x_2), 0)  \n",
    "print(x_3)"
   ]
  },
  {
   "cell_type": "code",
   "execution_count": 25,
   "id": "1517d95f",
   "metadata": {},
   "outputs": [
    {
     "name": "stdout",
     "output_type": "stream",
     "text": [
      "[[1 3]\n",
      " [5 2]\n",
      " [4 6]]\n"
     ]
    }
   ],
   "source": [
    "# Reshaping the existing array with desired dimension 3x2\n",
    "x_4 = np.reshape(x_3, (3,2))    \n",
    "print(x_4)"
   ]
  },
  {
   "cell_type": "markdown",
   "id": "131bd74d",
   "metadata": {},
   "source": [
    "### Working with CSV data using Pandas Data Framework"
   ]
  },
  {
   "cell_type": "code",
   "execution_count": 28,
   "id": "00096220",
   "metadata": {},
   "outputs": [
    {
     "ename": "PermissionError",
     "evalue": "[Errno 13] Permission denied: 'WineQT.csv'",
     "output_type": "error",
     "traceback": [
      "\u001b[1;31m---------------------------------------------------------------------------\u001b[0m",
      "\u001b[1;31mPermissionError\u001b[0m                           Traceback (most recent call last)",
      "\u001b[1;32m~\\AppData\\Local\\Temp/ipykernel_17600/3537420381.py\u001b[0m in \u001b[0;36m<module>\u001b[1;34m\u001b[0m\n\u001b[0;32m      3\u001b[0m \u001b[1;32mimport\u001b[0m \u001b[0murllib\u001b[0m\u001b[1;33m.\u001b[0m\u001b[0mrequest\u001b[0m\u001b[1;33m\u001b[0m\u001b[1;33m\u001b[0m\u001b[0m\n\u001b[0;32m      4\u001b[0m \u001b[1;33m\u001b[0m\u001b[0m\n\u001b[1;32m----> 5\u001b[1;33m urllib.request.urlretrieve(\n\u001b[0m\u001b[0;32m      6\u001b[0m     \u001b[1;34m'https://www.kaggle.com/yasserh/wine-quality-dataset?select=WineQT.csv'\u001b[0m\u001b[1;33m,\u001b[0m\u001b[1;34m'WineQT.csv'\u001b[0m\u001b[1;33m\u001b[0m\u001b[1;33m\u001b[0m\u001b[0m\n\u001b[0;32m      7\u001b[0m )\n",
      "\u001b[1;32m~\\anaconda3_2022\\lib\\urllib\\request.py\u001b[0m in \u001b[0;36murlretrieve\u001b[1;34m(url, filename, reporthook, data)\u001b[0m\n\u001b[0;32m    247\u001b[0m         \u001b[1;31m# Handle temporary file setup.\u001b[0m\u001b[1;33m\u001b[0m\u001b[1;33m\u001b[0m\u001b[0m\n\u001b[0;32m    248\u001b[0m         \u001b[1;32mif\u001b[0m \u001b[0mfilename\u001b[0m\u001b[1;33m:\u001b[0m\u001b[1;33m\u001b[0m\u001b[1;33m\u001b[0m\u001b[0m\n\u001b[1;32m--> 249\u001b[1;33m             \u001b[0mtfp\u001b[0m \u001b[1;33m=\u001b[0m \u001b[0mopen\u001b[0m\u001b[1;33m(\u001b[0m\u001b[0mfilename\u001b[0m\u001b[1;33m,\u001b[0m \u001b[1;34m'wb'\u001b[0m\u001b[1;33m)\u001b[0m\u001b[1;33m\u001b[0m\u001b[1;33m\u001b[0m\u001b[0m\n\u001b[0m\u001b[0;32m    250\u001b[0m         \u001b[1;32melse\u001b[0m\u001b[1;33m:\u001b[0m\u001b[1;33m\u001b[0m\u001b[1;33m\u001b[0m\u001b[0m\n\u001b[0;32m    251\u001b[0m             \u001b[0mtfp\u001b[0m \u001b[1;33m=\u001b[0m \u001b[0mtempfile\u001b[0m\u001b[1;33m.\u001b[0m\u001b[0mNamedTemporaryFile\u001b[0m\u001b[1;33m(\u001b[0m\u001b[0mdelete\u001b[0m\u001b[1;33m=\u001b[0m\u001b[1;32mFalse\u001b[0m\u001b[1;33m)\u001b[0m\u001b[1;33m\u001b[0m\u001b[1;33m\u001b[0m\u001b[0m\n",
      "\u001b[1;31mPermissionError\u001b[0m: [Errno 13] Permission denied: 'WineQT.csv'"
     ]
    }
   ],
   "source": [
    "# downloading data from url\n",
    "\n",
    "import urllib.request\n",
    "\n",
    "urllib.request.urlretrieve(\n",
    "    'https://www.kaggle.com/yasserh/wine-quality-dataset?select=WineQT.csv','WineQT.csv'\n",
    ")"
   ]
  },
  {
   "cell_type": "code",
   "execution_count": 29,
   "id": "e49e4cc7",
   "metadata": {},
   "outputs": [
    {
     "name": "stdout",
     "output_type": "stream",
     "text": [
      "      fixed acidity  volatile acidity  citric acid  residual sugar  chlorides  \\\n",
      "0               7.4             0.700         0.00             1.9      0.076   \n",
      "1               7.8             0.880         0.00             2.6      0.098   \n",
      "2               7.8             0.760         0.04             2.3      0.092   \n",
      "3              11.2             0.280         0.56             1.9      0.075   \n",
      "4               7.4             0.700         0.00             1.9      0.076   \n",
      "...             ...               ...          ...             ...        ...   \n",
      "1138            6.3             0.510         0.13             2.3      0.076   \n",
      "1139            6.8             0.620         0.08             1.9      0.068   \n",
      "1140            6.2             0.600         0.08             2.0      0.090   \n",
      "1141            5.9             0.550         0.10             2.2      0.062   \n",
      "1142            5.9             0.645         0.12             2.0      0.075   \n",
      "\n",
      "      free sulfur dioxide  total sulfur dioxide  density    pH  sulphates  \\\n",
      "0                    11.0                  34.0  0.99780  3.51       0.56   \n",
      "1                    25.0                  67.0  0.99680  3.20       0.68   \n",
      "2                    15.0                  54.0  0.99700  3.26       0.65   \n",
      "3                    17.0                  60.0  0.99800  3.16       0.58   \n",
      "4                    11.0                  34.0  0.99780  3.51       0.56   \n",
      "...                   ...                   ...      ...   ...        ...   \n",
      "1138                 29.0                  40.0  0.99574  3.42       0.75   \n",
      "1139                 28.0                  38.0  0.99651  3.42       0.82   \n",
      "1140                 32.0                  44.0  0.99490  3.45       0.58   \n",
      "1141                 39.0                  51.0  0.99512  3.52       0.76   \n",
      "1142                 32.0                  44.0  0.99547  3.57       0.71   \n",
      "\n",
      "      alcohol  quality    Id  \n",
      "0         9.4        5     0  \n",
      "1         9.8        5     1  \n",
      "2         9.8        5     2  \n",
      "3         9.8        6     3  \n",
      "4         9.4        5     4  \n",
      "...       ...      ...   ...  \n",
      "1138     11.0        6  1592  \n",
      "1139      9.5        6  1593  \n",
      "1140     10.5        5  1594  \n",
      "1141     11.2        6  1595  \n",
      "1142     10.2        5  1597  \n",
      "\n",
      "[1143 rows x 13 columns]\n"
     ]
    }
   ],
   "source": [
    "# reading csv into data framework\n",
    "\n",
    "df = pd.read_csv('WineQT.csv')\n",
    "\n",
    "print(df) "
   ]
  },
  {
   "cell_type": "code",
   "execution_count": 30,
   "id": "0394d7d2",
   "metadata": {},
   "outputs": [
    {
     "data": {
      "text/plain": [
       "(1143, 13)"
      ]
     },
     "execution_count": 30,
     "metadata": {},
     "output_type": "execute_result"
    }
   ],
   "source": [
    "df.shape"
   ]
  },
  {
   "cell_type": "code",
   "execution_count": 31,
   "id": "02f9381f",
   "metadata": {},
   "outputs": [],
   "source": [
    "#creating new data framework from existing df\n",
    "df1 = pd.DataFrame(df, columns = ['alcohol', 'quality', 'residual sugar'])"
   ]
  },
  {
   "cell_type": "code",
   "execution_count": 32,
   "id": "aa9ca1e1",
   "metadata": {},
   "outputs": [
    {
     "data": {
      "text/plain": [
       "(1143, 3)"
      ]
     },
     "execution_count": 32,
     "metadata": {},
     "output_type": "execute_result"
    }
   ],
   "source": [
    "df1.shape"
   ]
  },
  {
   "cell_type": "code",
   "execution_count": 33,
   "id": "01b6deaf",
   "metadata": {},
   "outputs": [
    {
     "name": "stdout",
     "output_type": "stream",
     "text": [
      "      alcohol  quality  residual sugar\n",
      "0         9.4        5             1.9\n",
      "1         9.8        5             2.6\n",
      "2         9.8        5             2.3\n",
      "3         9.8        6             1.9\n",
      "4         9.4        5             1.9\n",
      "...       ...      ...             ...\n",
      "1138     11.0        6             2.3\n",
      "1139      9.5        6             1.9\n",
      "1140     10.5        5             2.0\n",
      "1141     11.2        6             2.2\n",
      "1142     10.2        5             2.0\n",
      "\n",
      "[1143 rows x 3 columns]\n"
     ]
    }
   ],
   "source": [
    "print(df1)"
   ]
  },
  {
   "cell_type": "code",
   "execution_count": 34,
   "id": "c7a29092",
   "metadata": {},
   "outputs": [],
   "source": [
    "# saving the new df as csv in local storage\n",
    "Imported_file2_alc_qual_rs = df1.to_csv(r'C:\\Users\\vishu\\Python Practice_ATBS_2022\\wqalc_qual_rs.csv')"
   ]
  },
  {
   "cell_type": "code",
   "execution_count": 35,
   "id": "6339ac66",
   "metadata": {},
   "outputs": [
    {
     "data": {
      "text/html": [
       "<div>\n",
       "<style scoped>\n",
       "    .dataframe tbody tr th:only-of-type {\n",
       "        vertical-align: middle;\n",
       "    }\n",
       "\n",
       "    .dataframe tbody tr th {\n",
       "        vertical-align: top;\n",
       "    }\n",
       "\n",
       "    .dataframe thead th {\n",
       "        text-align: right;\n",
       "    }\n",
       "</style>\n",
       "<table border=\"1\" class=\"dataframe\">\n",
       "  <thead>\n",
       "    <tr style=\"text-align: right;\">\n",
       "      <th></th>\n",
       "      <th>alcohol</th>\n",
       "      <th>quality</th>\n",
       "      <th>residual sugar</th>\n",
       "    </tr>\n",
       "  </thead>\n",
       "  <tbody>\n",
       "    <tr>\n",
       "      <th>count</th>\n",
       "      <td>1143.000000</td>\n",
       "      <td>1143.000000</td>\n",
       "      <td>1143.000000</td>\n",
       "    </tr>\n",
       "    <tr>\n",
       "      <th>mean</th>\n",
       "      <td>10.442111</td>\n",
       "      <td>5.657043</td>\n",
       "      <td>2.532152</td>\n",
       "    </tr>\n",
       "    <tr>\n",
       "      <th>std</th>\n",
       "      <td>1.082196</td>\n",
       "      <td>0.805824</td>\n",
       "      <td>1.355917</td>\n",
       "    </tr>\n",
       "    <tr>\n",
       "      <th>min</th>\n",
       "      <td>8.400000</td>\n",
       "      <td>3.000000</td>\n",
       "      <td>0.900000</td>\n",
       "    </tr>\n",
       "    <tr>\n",
       "      <th>25%</th>\n",
       "      <td>9.500000</td>\n",
       "      <td>5.000000</td>\n",
       "      <td>1.900000</td>\n",
       "    </tr>\n",
       "    <tr>\n",
       "      <th>50%</th>\n",
       "      <td>10.200000</td>\n",
       "      <td>6.000000</td>\n",
       "      <td>2.200000</td>\n",
       "    </tr>\n",
       "    <tr>\n",
       "      <th>75%</th>\n",
       "      <td>11.100000</td>\n",
       "      <td>6.000000</td>\n",
       "      <td>2.600000</td>\n",
       "    </tr>\n",
       "    <tr>\n",
       "      <th>max</th>\n",
       "      <td>14.900000</td>\n",
       "      <td>8.000000</td>\n",
       "      <td>15.500000</td>\n",
       "    </tr>\n",
       "  </tbody>\n",
       "</table>\n",
       "</div>"
      ],
      "text/plain": [
       "           alcohol      quality  residual sugar\n",
       "count  1143.000000  1143.000000     1143.000000\n",
       "mean     10.442111     5.657043        2.532152\n",
       "std       1.082196     0.805824        1.355917\n",
       "min       8.400000     3.000000        0.900000\n",
       "25%       9.500000     5.000000        1.900000\n",
       "50%      10.200000     6.000000        2.200000\n",
       "75%      11.100000     6.000000        2.600000\n",
       "max      14.900000     8.000000       15.500000"
      ]
     },
     "execution_count": 35,
     "metadata": {},
     "output_type": "execute_result"
    }
   ],
   "source": [
    "df1.describe()"
   ]
  },
  {
   "cell_type": "code",
   "execution_count": 36,
   "id": "586fa7d9",
   "metadata": {},
   "outputs": [
    {
     "data": {
      "text/plain": [
       "<AxesSubplot:xlabel='residual sugar'>"
      ]
     },
     "execution_count": 36,
     "metadata": {},
     "output_type": "execute_result"
    },
    {
     "data": {
      "image/png": "[encoded data removed]",
      "text/plain": [
       "<Figure size 432x288 with 1 Axes>"
      ]
     },
     "metadata": {
      "needs_background": "light"
     },
     "output_type": "display_data"
    }
   ],
   "source": [
    "df1.plot(x ='residual sugar', y='quality')"
   ]
  },
  {
   "cell_type": "code",
   "execution_count": null,
   "id": "470c72c7",
   "metadata": {},
   "outputs": [],
   "source": []
  }
 ],
 "metadata": {
  "kernelspec": {
   "display_name": "Python 3 (ipykernel)",
   "language": "python",
   "name": "python3"
  },
  "language_info": {
   "codemirror_mode": {
    "name": "ipython",
    "version": 3
   },
   "file_extension": ".py",
   "mimetype": "text/x-python",
   "name": "python",
   "nbconvert_exporter": "python",
   "pygments_lexer": "ipython3",
   "version": "3.9.7"
  }
 },
 "nbformat": 4,
 "nbformat_minor": 5
}
