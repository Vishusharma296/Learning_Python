{
 "cells": [
  {
   "cell_type": "markdown",
   "id": "cb54bb4d",
   "metadata": {},
   "source": [
    "# Basic Python 3.0 practice 1: \n",
    "#### Control statements, Lists, Dictionaries, Functions, Strings\n",
    "\n",
    "This is a basic python 3.0 practice notebook which covers the following topics:\n",
    "\n",
    "1. Strings\n",
    "2. Use of flow control statements like if-else, for loops\n",
    "3. Lists\n",
    "4. Dictionaries\n",
    "5. Functions\n",
    "\n",
    "The targeted audience is people who are too lazy to read python documentation, type code themselves, or don't have enough time to watch the plenty of tutorials online. I assume you have some experience in programming before but now you kind of forgot it. So sit back with a cup of coffee and start reading the notebook and keep running the coding cells. Interact with the code, try to understand what is happening and if possible feel free to tinker with code.\n",
    "\n",
    "It would roughly take 1 hour to comple this notebook. You will be good to go with the python basics. \n",
    "\n",
    "Feel free to write me feedback at vishusharma296@gmail.com\n",
    "I plan to write a series of Notebooks on Python 3.0 covering various topics\n",
    "\n",
    "Author: Vishu Sharma\n",
    "Last updated: 13.02.2022\n"
   ]
  },
  {
   "cell_type": "code",
   "execution_count": 1,
   "id": "ebb04d83",
   "metadata": {},
   "outputs": [],
   "source": [
    "# Importing Libraries\n",
    "\n",
    "import math\n",
    "import random\n",
    "import pprint"
   ]
  },
  {
   "cell_type": "markdown",
   "id": "66975214",
   "metadata": {},
   "source": [
    "## 1.0. String manipulation"
   ]
  },
  {
   "cell_type": "code",
   "execution_count": 2,
   "id": "70cf5160",
   "metadata": {},
   "outputs": [],
   "source": [
    "a = \"ant\"\n",
    "b = \"bat\"\n",
    "\n",
    "sentence = a + b\n",
    "aa = a*2"
   ]
  },
  {
   "cell_type": "code",
   "execution_count": 3,
   "id": "d9be9f78",
   "metadata": {},
   "outputs": [
    {
     "name": "stdout",
     "output_type": "stream",
     "text": [
      "antbat\n"
     ]
    }
   ],
   "source": [
    "print(sentence)"
   ]
  },
  {
   "cell_type": "code",
   "execution_count": 4,
   "id": "4b9e3e2c",
   "metadata": {},
   "outputs": [
    {
     "name": "stdout",
     "output_type": "stream",
     "text": [
      "ant bat\n"
     ]
    }
   ],
   "source": [
    "print(a,b) # Notice the space between cat and bat"
   ]
  },
  {
   "cell_type": "code",
   "execution_count": 5,
   "id": "5dd8856d",
   "metadata": {},
   "outputs": [
    {
     "name": "stdout",
     "output_type": "stream",
     "text": [
      "ant bat !\n"
     ]
    }
   ],
   "source": [
    "print (a, b, \"!\")"
   ]
  },
  {
   "cell_type": "code",
   "execution_count": 6,
   "id": "4c47462f",
   "metadata": {},
   "outputs": [
    {
     "name": "stdout",
     "output_type": "stream",
     "text": [
      "aa value is: antant\n"
     ]
    }
   ],
   "source": [
    "print(\"aa value is:\", aa)"
   ]
  },
  {
   "cell_type": "code",
   "execution_count": 7,
   "id": "f79d7a17",
   "metadata": {},
   "outputs": [],
   "source": [
    "string1 = \"crazy cow kills the tiger\""
   ]
  },
  {
   "cell_type": "code",
   "execution_count": 8,
   "id": "aa29dbd1",
   "metadata": {},
   "outputs": [],
   "source": [
    "string2 = string1[5:9] # slicing a string"
   ]
  },
  {
   "cell_type": "code",
   "execution_count": 9,
   "id": "4ef2478a",
   "metadata": {},
   "outputs": [
    {
     "name": "stdout",
     "output_type": "stream",
     "text": [
      " cow\n"
     ]
    }
   ],
   "source": [
    "print (string2)"
   ]
  },
  {
   "cell_type": "code",
   "execution_count": 10,
   "id": "4bbae2c8",
   "metadata": {},
   "outputs": [
    {
     "data": {
      "text/plain": [
       "'crazy'"
      ]
     },
     "execution_count": 10,
     "metadata": {},
     "output_type": "execute_result"
    }
   ],
   "source": [
    "string1[0:5]"
   ]
  },
  {
   "cell_type": "markdown",
   "id": "5662fe90",
   "metadata": {},
   "source": [
    "#### 1.1 Methods on strings"
   ]
  },
  {
   "cell_type": "code",
   "execution_count": 11,
   "id": "86efc5fa",
   "metadata": {},
   "outputs": [
    {
     "data": {
      "text/plain": [
       "'TIGER'"
      ]
     },
     "execution_count": 11,
     "metadata": {},
     "output_type": "execute_result"
    }
   ],
   "source": [
    "\"tiger\".upper()"
   ]
  },
  {
   "cell_type": "code",
   "execution_count": 12,
   "id": "76c3cf32",
   "metadata": {},
   "outputs": [
    {
     "data": {
      "text/plain": [
       "'Crazy cow kills the tiger'"
      ]
     },
     "execution_count": 12,
     "metadata": {},
     "output_type": "execute_result"
    }
   ],
   "source": [
    "string1.capitalize()  # Changes the first character to upper case"
   ]
  },
  {
   "cell_type": "code",
   "execution_count": 13,
   "id": "87edbb67",
   "metadata": {},
   "outputs": [
    {
     "name": "stdout",
     "output_type": "stream",
     "text": [
      "crazy cow kills the lion\n"
     ]
    }
   ],
   "source": [
    "string3 = string1.replace(\"tiger\", \"lion\")\n",
    "print(string3)"
   ]
  },
  {
   "cell_type": "markdown",
   "id": "4c4fd461",
   "metadata": {},
   "source": [
    "## 2.0 Flow Control: if- else, for loop, while loop"
   ]
  },
  {
   "cell_type": "code",
   "execution_count": 14,
   "id": "25bf5bfa",
   "metadata": {},
   "outputs": [
    {
     "name": "stdout",
     "output_type": "stream",
     "text": [
      " To know the price of fruit enter the fruit name\n",
      "kiwi\n",
      "Sorry fruit not available\n"
     ]
    }
   ],
   "source": [
    "# if-elif-else\n",
    "\n",
    "print(' To know the price of fruit enter the fruit name')\n",
    "\n",
    "fruit = input()\n",
    "\n",
    "if fruit == 'Mango':\n",
    "    print('3€')\n",
    "elif fruit == 'Banana':\n",
    "    print('2€')\n",
    "elif fruit == 'Apple':\n",
    "    print('4€')\n",
    "elif fruit == 'Pineapple':\n",
    "    print('1€')\n",
    "else:\n",
    "    print('Sorry fruit not available')\n",
    "\n",
    "    "
   ]
  },
  {
   "cell_type": "code",
   "execution_count": 15,
   "id": "97d26554",
   "metadata": {},
   "outputs": [
    {
     "name": "stdout",
     "output_type": "stream",
     "text": [
      "0\n",
      "2\n",
      "4\n",
      "6\n",
      "8\n",
      "10\n",
      "12\n",
      "14\n",
      "16\n",
      "18\n"
     ]
    }
   ],
   "source": [
    "# for loop\n",
    "\n",
    "for ind in range(0,20,2):\n",
    "    print(ind)"
   ]
  },
  {
   "cell_type": "code",
   "execution_count": 16,
   "id": "11102da4",
   "metadata": {},
   "outputs": [
    {
     "name": "stdout",
     "output_type": "stream",
     "text": [
      "1\n",
      "2\n",
      "3\n",
      "4\n",
      "5\n",
      "6\n",
      "7\n",
      "8\n",
      "9\n",
      "10\n",
      "11\n"
     ]
    }
   ],
   "source": [
    "# While loop\n",
    "\n",
    "index = 0\n",
    "while index <= 10:\n",
    "    index = index + 1\n",
    "    print(index)"
   ]
  },
  {
   "cell_type": "markdown",
   "id": "84b1c42f",
   "metadata": {},
   "source": [
    "## 3.0 Lists"
   ]
  },
  {
   "cell_type": "code",
   "execution_count": 17,
   "id": "f4ba05cf",
   "metadata": {},
   "outputs": [],
   "source": [
    "list1 = [1, 3, 5, 7 ,34, 67]"
   ]
  },
  {
   "cell_type": "code",
   "execution_count": 18,
   "id": "e27fd65b",
   "metadata": {},
   "outputs": [
    {
     "data": {
      "text/plain": [
       "6"
      ]
     },
     "execution_count": 18,
     "metadata": {},
     "output_type": "execute_result"
    }
   ],
   "source": [
    "len(list1)"
   ]
  },
  {
   "cell_type": "code",
   "execution_count": 19,
   "id": "84b7ba19",
   "metadata": {},
   "outputs": [
    {
     "data": {
      "text/plain": [
       "117"
      ]
     },
     "execution_count": 19,
     "metadata": {},
     "output_type": "execute_result"
    }
   ],
   "source": [
    "sum(list1)"
   ]
  },
  {
   "cell_type": "code",
   "execution_count": 20,
   "id": "bc1cf769",
   "metadata": {},
   "outputs": [],
   "source": [
    "list2 = list1[-1:-7:-1]"
   ]
  },
  {
   "cell_type": "code",
   "execution_count": 21,
   "id": "289cc6e3",
   "metadata": {},
   "outputs": [
    {
     "name": "stdout",
     "output_type": "stream",
     "text": [
      "[67, 34, 7, 5, 3, 1]\n"
     ]
    }
   ],
   "source": [
    "print(list1[-1:-7:-1])"
   ]
  },
  {
   "cell_type": "code",
   "execution_count": 22,
   "id": "ba4b8500",
   "metadata": {},
   "outputs": [],
   "source": [
    "list3 = list1 + list2  # Concatenating the list"
   ]
  },
  {
   "cell_type": "code",
   "execution_count": 23,
   "id": "b328c80f",
   "metadata": {},
   "outputs": [
    {
     "name": "stdout",
     "output_type": "stream",
     "text": [
      "[1, 3, 5, 7, 34, 67, 67, 34, 7, 5, 3, 1]\n"
     ]
    }
   ],
   "source": [
    "print(list3)"
   ]
  },
  {
   "cell_type": "code",
   "execution_count": 24,
   "id": "98492c6f",
   "metadata": {},
   "outputs": [
    {
     "name": "stdout",
     "output_type": "stream",
     "text": [
      "[1, 3, 5]\n"
     ]
    }
   ],
   "source": [
    "print(list3[0:3:1])"
   ]
  },
  {
   "cell_type": "markdown",
   "id": "25432caf",
   "metadata": {},
   "source": [
    "#### 3.1 List Manipulation"
   ]
  },
  {
   "cell_type": "code",
   "execution_count": 25,
   "id": "6cf609e1",
   "metadata": {},
   "outputs": [],
   "source": [
    "# Extending the existing list with another list\n",
    "list1.extend(list3)"
   ]
  },
  {
   "cell_type": "code",
   "execution_count": 26,
   "id": "e6b895ab",
   "metadata": {},
   "outputs": [
    {
     "name": "stdout",
     "output_type": "stream",
     "text": [
      "[1, 3, 5, 7, 34, 67, 1, 3, 5, 7, 34, 67, 67, 34, 7, 5, 3, 1]\n"
     ]
    }
   ],
   "source": [
    "print(list1) # Notice that original list 1 is extended"
   ]
  },
  {
   "cell_type": "code",
   "execution_count": 27,
   "id": "09ca8d60",
   "metadata": {},
   "outputs": [],
   "source": [
    "# Adding list inside list using append\n",
    "list2.append(list3)"
   ]
  },
  {
   "cell_type": "code",
   "execution_count": 28,
   "id": "09da0f48",
   "metadata": {},
   "outputs": [
    {
     "name": "stdout",
     "output_type": "stream",
     "text": [
      "[67, 34, 7, 5, 3, 1, [1, 3, 5, 7, 34, 67, 67, 34, 7, 5, 3, 1]]\n"
     ]
    }
   ],
   "source": [
    "print(list2) # Notice that list 3 is appended inside original list 2 "
   ]
  },
  {
   "cell_type": "code",
   "execution_count": 29,
   "id": "fff50ee0",
   "metadata": {},
   "outputs": [],
   "source": [
    "# Manipulating elements of list\n",
    "list1[1:4] = [0, 0, 0, 0]   # Assiging elements with index 1 to 4  new values  "
   ]
  },
  {
   "cell_type": "code",
   "execution_count": 30,
   "id": "39759df5",
   "metadata": {},
   "outputs": [
    {
     "name": "stdout",
     "output_type": "stream",
     "text": [
      "[1, 0, 0, 0, 0, 34, 67, 1, 3, 5, 7, 34, 67, 67, 34, 7, 5, 3, 1]\n"
     ]
    }
   ],
   "source": [
    "print(list1)"
   ]
  },
  {
   "cell_type": "code",
   "execution_count": 31,
   "id": "28906b37",
   "metadata": {},
   "outputs": [],
   "source": [
    "# Deleting elements in list\n",
    "del list1[:4] # deletes the first four elements"
   ]
  },
  {
   "cell_type": "code",
   "execution_count": 32,
   "id": "be2aefb2",
   "metadata": {},
   "outputs": [
    {
     "name": "stdout",
     "output_type": "stream",
     "text": [
      "[0, 34, 67, 1, 3, 5, 7, 34, 67, 67, 34, 7, 5, 3, 1]\n"
     ]
    }
   ],
   "source": [
    "print(list1)"
   ]
  },
  {
   "cell_type": "code",
   "execution_count": 33,
   "id": "0780accd",
   "metadata": {},
   "outputs": [
    {
     "name": "stdout",
     "output_type": "stream",
     "text": [
      "1\n",
      "3\n",
      "5\n",
      "7\n",
      "34\n",
      "67\n",
      "67\n",
      "34\n",
      "7\n",
      "5\n",
      "3\n",
      "1\n"
     ]
    }
   ],
   "source": [
    "# accessing the elements of lists via foor loop\n",
    "for element in list3:\n",
    "    print(element)"
   ]
  },
  {
   "cell_type": "code",
   "execution_count": 34,
   "id": "fbf99190",
   "metadata": {},
   "outputs": [
    {
     "name": "stdout",
     "output_type": "stream",
     "text": [
      "Sum of the elements in third list is:  234\n"
     ]
    }
   ],
   "source": [
    "print(\"Sum of the elements in third list is: \", sum(list3))"
   ]
  },
  {
   "cell_type": "code",
   "execution_count": 35,
   "id": "3bae651d",
   "metadata": {},
   "outputs": [
    {
     "name": "stdout",
     "output_type": "stream",
     "text": [
      "0 : 1\n",
      "1 : 3\n",
      "2 : 5\n",
      "3 : 7\n",
      "4 : 34\n",
      "5 : 67\n",
      "6 : 67\n",
      "7 : 34\n",
      "8 : 7\n",
      "9 : 5\n",
      "10 : 3\n",
      "11 : 1\n"
     ]
    }
   ],
   "source": [
    "# getting index and value via enumerate function in lists\n",
    "\n",
    "for counter, value in enumerate(list3):    \n",
    "    print(counter, \":\", value)"
   ]
  },
  {
   "cell_type": "markdown",
   "id": "9dd5f895",
   "metadata": {},
   "source": [
    "#### 3.2 List inside lists: Accessing and manipulating elements, "
   ]
  },
  {
   "cell_type": "code",
   "execution_count": 36,
   "id": "dfd249ec",
   "metadata": {},
   "outputs": [],
   "source": [
    "list5 = ['Joker', 'bat', 'batmobile', 'batcave', 'alfred']\n",
    "list6 = ['batman', 'superman', 'spiderman', 'ironman']"
   ]
  },
  {
   "cell_type": "code",
   "execution_count": 37,
   "id": "5b53ed52",
   "metadata": {},
   "outputs": [],
   "source": [
    "# Lists inside list\n",
    "comics_list = [list5, list6]"
   ]
  },
  {
   "cell_type": "code",
   "execution_count": 38,
   "id": "8a7b7b02",
   "metadata": {},
   "outputs": [
    {
     "name": "stdout",
     "output_type": "stream",
     "text": [
      "[['Joker', 'bat', 'batmobile', 'batcave', 'alfred'], ['batman', 'superman', 'spiderman', 'ironman']]\n"
     ]
    }
   ],
   "source": [
    "print(comics_list)"
   ]
  },
  {
   "cell_type": "code",
   "execution_count": 39,
   "id": "c4220b49",
   "metadata": {},
   "outputs": [
    {
     "name": "stdout",
     "output_type": "stream",
     "text": [
      "spiderman\n"
     ]
    }
   ],
   "source": [
    "print(comics_list[1][2])"
   ]
  },
  {
   "cell_type": "code",
   "execution_count": 40,
   "id": "8d298ac0",
   "metadata": {},
   "outputs": [
    {
     "name": "stdout",
     "output_type": "stream",
     "text": [
      "batcave\n"
     ]
    }
   ],
   "source": [
    "print(comics_list[0][3])"
   ]
  },
  {
   "cell_type": "code",
   "execution_count": 41,
   "id": "3ba5d2a0",
   "metadata": {},
   "outputs": [
    {
     "name": "stdout",
     "output_type": "stream",
     "text": [
      "['Joker', 'bat', 'batmobile']\n"
     ]
    }
   ],
   "source": [
    "print(comics_list[0][0:3])"
   ]
  },
  {
   "cell_type": "code",
   "execution_count": 42,
   "id": "f2bd6e2d",
   "metadata": {},
   "outputs": [
    {
     "data": {
      "text/plain": [
       "True"
      ]
     },
     "execution_count": 42,
     "metadata": {},
     "output_type": "execute_result"
    }
   ],
   "source": [
    "'Joker' in list5"
   ]
  },
  {
   "cell_type": "code",
   "execution_count": 43,
   "id": "2655534f",
   "metadata": {},
   "outputs": [
    {
     "data": {
      "text/plain": [
       "False"
      ]
     },
     "execution_count": 43,
     "metadata": {},
     "output_type": "execute_result"
    }
   ],
   "source": [
    "'Joker' in comics_list"
   ]
  },
  {
   "cell_type": "code",
   "execution_count": 44,
   "id": "87b02cc6",
   "metadata": {},
   "outputs": [],
   "source": [
    "# Storing output of a for loop in an empty list\n",
    "\n",
    "list8 = []\n",
    "list9 = []"
   ]
  },
  {
   "cell_type": "code",
   "execution_count": 45,
   "id": "4216fe36",
   "metadata": {},
   "outputs": [
    {
     "name": "stdout",
     "output_type": "stream",
     "text": [
      "0\n",
      "9\n",
      "36\n",
      "81\n",
      "144\n",
      "225\n",
      "324\n",
      "441\n",
      "576\n",
      "729\n"
     ]
    }
   ],
   "source": [
    "for index in range(0,30,3):\n",
    "    sq_in = index**2\n",
    "    list8.append(sq_in)\n",
    "    ran_in = random.randint(0, 20)\n",
    "    list9.append(ran_in)\n",
    "    print(sq_in)"
   ]
  },
  {
   "cell_type": "code",
   "execution_count": 46,
   "id": "6d7324c1",
   "metadata": {},
   "outputs": [
    {
     "name": "stdout",
     "output_type": "stream",
     "text": [
      "[0, 9, 36, 81, 144, 225, 324, 441, 576, 729]\n"
     ]
    }
   ],
   "source": [
    "print(list8)"
   ]
  },
  {
   "cell_type": "code",
   "execution_count": 47,
   "id": "49cf9283",
   "metadata": {},
   "outputs": [
    {
     "name": "stdout",
     "output_type": "stream",
     "text": [
      "[1, 6, 12, 1, 19, 17, 10, 10, 18, 8]\n"
     ]
    }
   ],
   "source": [
    "print(list9)"
   ]
  },
  {
   "cell_type": "code",
   "execution_count": 48,
   "id": "684a834a",
   "metadata": {},
   "outputs": [
    {
     "name": "stdout",
     "output_type": "stream",
     "text": [
      "[1, 1, 6, 8, 10, 10, 12, 17, 18, 19]\n"
     ]
    }
   ],
   "source": [
    "list9.sort()\n",
    "print(list9)"
   ]
  },
  {
   "cell_type": "code",
   "execution_count": 49,
   "id": "57b22ed3",
   "metadata": {},
   "outputs": [
    {
     "name": "stdout",
     "output_type": "stream",
     "text": [
      "[81, 36, 144, 9, 225, 441, 0, 729, 324, 576]\n"
     ]
    }
   ],
   "source": [
    "random.shuffle(list8)\n",
    "print(list8)"
   ]
  },
  {
   "cell_type": "code",
   "execution_count": 50,
   "id": "1535630f",
   "metadata": {},
   "outputs": [
    {
     "name": "stdout",
     "output_type": "stream",
     "text": [
      "[729, 576, 441, 324, 225, 144, 81, 36, 9, 0]\n"
     ]
    }
   ],
   "source": [
    "list8.sort(reverse = True)  # Sorting the list in reverse order\n",
    "print(list8)"
   ]
  },
  {
   "cell_type": "code",
   "execution_count": 51,
   "id": "669fc795",
   "metadata": {},
   "outputs": [
    {
     "name": "stdout",
     "output_type": "stream",
     "text": [
      "[1, 1, 6, 8, 10, 12, 17, 18, 19]\n"
     ]
    }
   ],
   "source": [
    "list9.remove(10)  # removing specific element from the list\n",
    "print(list9)"
   ]
  },
  {
   "cell_type": "code",
   "execution_count": 52,
   "id": "af8e949f",
   "metadata": {},
   "outputs": [
    {
     "name": "stdout",
     "output_type": "stream",
     "text": [
      "[500, 1, 1, 6, 8, 10, 12, 17, 18, 19]\n"
     ]
    }
   ],
   "source": [
    "list9.insert(0, 500)   # inserting 500 on 0th index\n",
    "print(list9)"
   ]
  },
  {
   "cell_type": "code",
   "execution_count": 53,
   "id": "347f4e95",
   "metadata": {},
   "outputs": [
    {
     "name": "stdout",
     "output_type": "stream",
     "text": [
      "[500, 1, 1, 6, 8, 10, 12, 17, 18, 19, 1000]\n"
     ]
    }
   ],
   "source": [
    "list9.append(1000)\n",
    "print(list9)"
   ]
  },
  {
   "cell_type": "markdown",
   "id": "eb1b0191",
   "metadata": {},
   "source": [
    "## 4.0 Dictionary"
   ]
  },
  {
   "cell_type": "code",
   "execution_count": 54,
   "id": "b777629a",
   "metadata": {},
   "outputs": [],
   "source": [
    "my_dict1 = {\n",
    "    \"name\": \"John\",\n",
    "    \"age\" : \"30\",\n",
    "    \"salary\" : \"5000\",\n",
    "    \"city\" : \"Berlin\"\n",
    "}"
   ]
  },
  {
   "cell_type": "code",
   "execution_count": 55,
   "id": "4523dd00",
   "metadata": {},
   "outputs": [
    {
     "name": "stdout",
     "output_type": "stream",
     "text": [
      "{'name': 'John', 'age': '30', 'salary': '5000', 'city': 'Berlin'}\n"
     ]
    }
   ],
   "source": [
    " print(my_dict1)"
   ]
  },
  {
   "cell_type": "code",
   "execution_count": 56,
   "id": "c9c97b18",
   "metadata": {},
   "outputs": [
    {
     "name": "stdout",
     "output_type": "stream",
     "text": [
      "my name is: John\n"
     ]
    }
   ],
   "source": [
    "print('my name is:', my_dict1['name'])"
   ]
  },
  {
   "cell_type": "code",
   "execution_count": 57,
   "id": "3de9573c",
   "metadata": {},
   "outputs": [
    {
     "data": {
      "text/plain": [
       "dict_values(['John', '30', '5000', 'Berlin'])"
      ]
     },
     "execution_count": 57,
     "metadata": {},
     "output_type": "execute_result"
    }
   ],
   "source": [
    "my_dict1.values()"
   ]
  },
  {
   "cell_type": "code",
   "execution_count": 58,
   "id": "1efb45a4",
   "metadata": {},
   "outputs": [
    {
     "data": {
      "text/plain": [
       "dict_keys(['name', 'age', 'salary', 'city'])"
      ]
     },
     "execution_count": 58,
     "metadata": {},
     "output_type": "execute_result"
    }
   ],
   "source": [
    "my_dict1.keys()"
   ]
  },
  {
   "cell_type": "code",
   "execution_count": 59,
   "id": "58a367d6",
   "metadata": {},
   "outputs": [],
   "source": [
    "my_dict1['education'] = 'Universität Siegen' # Assigning a new key value pair in my_dict1"
   ]
  },
  {
   "cell_type": "code",
   "execution_count": 60,
   "id": "6bb48e32",
   "metadata": {},
   "outputs": [
    {
     "data": {
      "text/plain": [
       "dict_items([('name', 'John'), ('age', '30'), ('salary', '5000'), ('city', 'Berlin'), ('education', 'Universität Siegen')])"
      ]
     },
     "execution_count": 60,
     "metadata": {},
     "output_type": "execute_result"
    }
   ],
   "source": [
    "my_dict1.items()"
   ]
  },
  {
   "cell_type": "markdown",
   "id": "1bdcba99",
   "metadata": {},
   "source": [
    "#### 4.1 Aceessing and manipulating items in dictionary "
   ]
  },
  {
   "cell_type": "code",
   "execution_count": 61,
   "id": "e9244655",
   "metadata": {},
   "outputs": [],
   "source": [
    "mycity = {'name': 'Siegen', 'population': '120k', 'transport': 'bus', 'code': '57076'}"
   ]
  },
  {
   "cell_type": "code",
   "execution_count": 62,
   "id": "3aebf6a2",
   "metadata": {},
   "outputs": [
    {
     "name": "stdout",
     "output_type": "stream",
     "text": [
      "name\n",
      "population\n",
      "transport\n",
      "code\n"
     ]
    }
   ],
   "source": [
    "for k in mycity.keys():\n",
    "    print(k)"
   ]
  },
  {
   "cell_type": "code",
   "execution_count": 63,
   "id": "261cad32",
   "metadata": {},
   "outputs": [
    {
     "name": "stdout",
     "output_type": "stream",
     "text": [
      "('name', 'Siegen')\n",
      "('population', '120k')\n",
      "('transport', 'bus')\n",
      "('code', '57076')\n"
     ]
    }
   ],
   "source": [
    "for i in mycity.items():\n",
    "    print(i)"
   ]
  },
  {
   "cell_type": "code",
   "execution_count": 64,
   "id": "919d7975",
   "metadata": {},
   "outputs": [
    {
     "data": {
      "text/plain": [
       "'120k'"
      ]
     },
     "execution_count": 64,
     "metadata": {},
     "output_type": "execute_result"
    }
   ],
   "source": [
    "mycity.get('population', 0)"
   ]
  },
  {
   "cell_type": "code",
   "execution_count": 65,
   "id": "79dac3d1",
   "metadata": {},
   "outputs": [
    {
     "data": {
      "text/plain": [
       "True"
      ]
     },
     "execution_count": 65,
     "metadata": {},
     "output_type": "execute_result"
    }
   ],
   "source": [
    "'name' in mycity"
   ]
  },
  {
   "cell_type": "code",
   "execution_count": 66,
   "id": "1108cfbc",
   "metadata": {},
   "outputs": [
    {
     "data": {
      "text/plain": [
       "False"
      ]
     },
     "execution_count": 66,
     "metadata": {},
     "output_type": "execute_result"
    }
   ],
   "source": [
    "'name' in mycity.values() "
   ]
  },
  {
   "cell_type": "code",
   "execution_count": 67,
   "id": "27169280",
   "metadata": {},
   "outputs": [],
   "source": [
    "mycity2 = dict(name = 'Paris', population = '3200k', transport = 'train', code = '75000')"
   ]
  },
  {
   "cell_type": "code",
   "execution_count": 68,
   "id": "692a9bd2",
   "metadata": {},
   "outputs": [
    {
     "data": {
      "text/plain": [
       "'3200k'"
      ]
     },
     "execution_count": 68,
     "metadata": {},
     "output_type": "execute_result"
    }
   ],
   "source": [
    "mycity2['population']"
   ]
  },
  {
   "cell_type": "code",
   "execution_count": 69,
   "id": "c89e5a60",
   "metadata": {},
   "outputs": [],
   "source": [
    "mycity2['education'] = 'University of Paris' # Adding a new key value pair in dictionary"
   ]
  },
  {
   "cell_type": "code",
   "execution_count": 70,
   "id": "099ba196",
   "metadata": {},
   "outputs": [
    {
     "name": "stdout",
     "output_type": "stream",
     "text": [
      "Paris\n",
      "3200k\n",
      "train\n",
      "75000\n",
      "University of Paris\n"
     ]
    }
   ],
   "source": [
    "for v in mycity2.values():\n",
    "    print(v)"
   ]
  },
  {
   "cell_type": "code",
   "execution_count": 71,
   "id": "9bbf0a26",
   "metadata": {},
   "outputs": [
    {
     "data": {
      "text/plain": [
       "'train'"
      ]
     },
     "execution_count": 71,
     "metadata": {},
     "output_type": "execute_result"
    }
   ],
   "source": [
    "mycity2.pop('transport')  # Removing a key value pair "
   ]
  },
  {
   "cell_type": "code",
   "execution_count": 72,
   "id": "59c656ca",
   "metadata": {},
   "outputs": [
    {
     "name": "stdout",
     "output_type": "stream",
     "text": [
      "('name', 'Paris')\n",
      "('population', '3200k')\n",
      "('code', '75000')\n",
      "('education', 'University of Paris')\n"
     ]
    }
   ],
   "source": [
    "for i in mycity2.items():\n",
    "    print(i)"
   ]
  },
  {
   "cell_type": "markdown",
   "id": "e1db8de8",
   "metadata": {},
   "source": [
    "#### 4.2 Dictionaries inside List "
   ]
  },
  {
   "cell_type": "code",
   "execution_count": 73,
   "id": "0d0c7f1e",
   "metadata": {},
   "outputs": [],
   "source": [
    "### Employee database\n",
    "\n",
    "Info_Jake_ = {\n",
    "    \"name\": \"Jake\",\n",
    "    \"age\" : \"31\",\n",
    "    \"salary\" : \"5400\",\n",
    "    \"city\" : \"Berlin\",\n",
    "    \"emp_id\" : \"0001\"\n",
    "}\n",
    "\n",
    "\n",
    "Info_Michael_ = {\n",
    "    \"name\": \"Michael\",\n",
    "    \"age\" : \"29\",\n",
    "    \"salary\" : \"5800\",\n",
    "    \"city\" : \"Munich\",\n",
    "    \"emp_id\" : \"0002\"\n",
    "}\n",
    "\n",
    "Info_Lena_ = {\n",
    "    \"name\": \"Lena\",\n",
    "    \"age\" : \"28\",\n",
    "    \"salary\" : \"6800\",\n",
    "    \"city\" : \"Hamburg\",\n",
    "    \"emp_id\" : \"0003\"\n",
    "}\n",
    "\n",
    "Info_Julia_ = {\n",
    "    \"name\": \"Julia\",\n",
    "    \"age\" : \"23\",\n",
    "    \"salary\" : \"4000\",\n",
    "    \"city\" : \"Siegen\",\n",
    "    \"emp_id\" : \"0004\"\n",
    "}\n",
    "\n",
    "\n"
   ]
  },
  {
   "cell_type": "code",
   "execution_count": 74,
   "id": "c42c772f",
   "metadata": {},
   "outputs": [],
   "source": [
    "Info_Emp_list = [Info_Jake_, Info_Michael_, Info_Lena_, Info_Julia_]"
   ]
  },
  {
   "cell_type": "code",
   "execution_count": 75,
   "id": "d9cbed54",
   "metadata": {},
   "outputs": [
    {
     "name": "stdout",
     "output_type": "stream",
     "text": [
      "[{'age': '31',\n",
      "  'city': 'Berlin',\n",
      "  'emp_id': '0001',\n",
      "  'name': 'Jake',\n",
      "  'salary': '5400'},\n",
      " {'age': '29',\n",
      "  'city': 'Munich',\n",
      "  'emp_id': '0002',\n",
      "  'name': 'Michael',\n",
      "  'salary': '5800'},\n",
      " {'age': '28',\n",
      "  'city': 'Hamburg',\n",
      "  'emp_id': '0003',\n",
      "  'name': 'Lena',\n",
      "  'salary': '6800'},\n",
      " {'age': '23',\n",
      "  'city': 'Siegen',\n",
      "  'emp_id': '0004',\n",
      "  'name': 'Julia',\n",
      "  'salary': '4000'}]\n"
     ]
    }
   ],
   "source": [
    "pprint.pprint(Info_Emp_list)"
   ]
  },
  {
   "cell_type": "markdown",
   "id": "a9fcee42",
   "metadata": {},
   "source": [
    "## 5.0 Functions"
   ]
  },
  {
   "cell_type": "code",
   "execution_count": 76,
   "id": "78bfbb12",
   "metadata": {},
   "outputs": [],
   "source": [
    "### Function with default arguments\n",
    "\n",
    "def Marriage_maker ():\n",
    "    print('What is the name of Groom? :' )\n",
    "    Groom = input()\n",
    "    print('What is age of %s Groom in years:' %(Groom) )\n",
    "    P1_age = float(input())\n",
    "    \n",
    "    print('What is the name of Bride? :' )\n",
    "    Bride = input() \n",
    "    print('What is age of %s in years:' %(Bride))\n",
    "    P2_age = float(input())\n",
    "    \n",
    "    if P1_age-P2_age >=10:\n",
    "        print('This marriage cannot happen')   \n",
    "    else:\n",
    "        print('Let it be known that %s and %s are one heart, one flesh, one soul.'\\\n",
    "             %(Groom, Bride))\n",
    "    "
   ]
  },
  {
   "cell_type": "code",
   "execution_count": 77,
   "id": "bb57155e",
   "metadata": {},
   "outputs": [
    {
     "name": "stdout",
     "output_type": "stream",
     "text": [
      "What is the name of Groom? :\n",
      "John\n",
      "What is age of John Groom in years:\n",
      "31\n",
      "What is the name of Bride? :\n",
      "Julia\n",
      "What is age of Julia in years:\n",
      "23\n",
      "Let it be known that John and Julia are one heart, one flesh, one soul.\n"
     ]
    }
   ],
   "source": [
    "Marriage_maker()"
   ]
  },
  {
   "cell_type": "code",
   "execution_count": 78,
   "id": "909b97d0",
   "metadata": {},
   "outputs": [],
   "source": [
    "### Function with variable length arguments as input\n",
    "\n",
    "def Info_person(First_name, *other_info):\n",
    "    print(\"You give the following information about: %s\"  %(First_name))\n",
    "    for info in other_info:\n",
    "        print(info)\n",
    "    return"
   ]
  },
  {
   "cell_type": "code",
   "execution_count": 79,
   "id": "ec379718",
   "metadata": {},
   "outputs": [
    {
     "name": "stdout",
     "output_type": "stream",
     "text": [
      "You give the following information about: Jake\n",
      "Berlin\n",
      "31\n",
      "You give the following information about: Julia\n",
      "Siegen\n",
      "Married\n",
      "No criminal record\n",
      "23\n"
     ]
    }
   ],
   "source": [
    "Info_person('Jake','Berlin', 31)\n",
    "Info_person('Julia','Siegen', 'Married', 'No criminal record', 23)"
   ]
  },
  {
   "cell_type": "code",
   "execution_count": 80,
   "id": "785e855c",
   "metadata": {},
   "outputs": [],
   "source": [
    "### Function with required arguments\n",
    "\n",
    "def Pythagorean_distance(x1, x2):\n",
    "    x_py_2 = x1**2 + x2**2\n",
    "    x_py = math.sqrt(x_py_2)\n",
    "    return x_py"
   ]
  },
  {
   "cell_type": "code",
   "execution_count": 81,
   "id": "c5b74a87",
   "metadata": {},
   "outputs": [
    {
     "data": {
      "text/plain": [
       "13.0"
      ]
     },
     "execution_count": 81,
     "metadata": {},
     "output_type": "execute_result"
    }
   ],
   "source": [
    "Pythagorean_distance(12, 5)\n"
   ]
  },
  {
   "cell_type": "code",
   "execution_count": 82,
   "id": "b4b5ce01",
   "metadata": {},
   "outputs": [],
   "source": [
    "### factorial Function\n",
    "\n",
    "def Factorial():\n",
    "    n = int(input(\"Enter a positive integer for which you want to calculate the factorial: \"))\n",
    "    fact = 1\n",
    "    \n",
    "    val = int(n)\n",
    "    if val < 0:\n",
    "        print(\"Entered number is not a positive integer, Please enter a positive integer\")\n",
    "        \n",
    "    else:\n",
    "        print(\"You entered a positive integer: %s\" % (n))\n",
    "        while(n>0):\n",
    "            fact=fact*n\n",
    "            n=n-1\n",
    "        print(\"Factorial of the entered number is %s: \" %(fact))\n"
   ]
  },
  {
   "cell_type": "code",
   "execution_count": 83,
   "id": "6bb1bbc1",
   "metadata": {},
   "outputs": [
    {
     "name": "stdout",
     "output_type": "stream",
     "text": [
      "Enter a positive integer for which you want to calculate the factorial: 25\n",
      "You entered a positive integer: 25\n",
      "Factorial of the entered number is 15511210043330985984000000: \n",
      "Wall time: 3.11 s\n"
     ]
    }
   ],
   "source": [
    "%%time\n",
    "Factorial()"
   ]
  },
  {
   "cell_type": "markdown",
   "id": "b22d2ffa",
   "metadata": {},
   "source": [
    "#### 5.2 Entering dictionary and list values as argument to function: "
   ]
  },
  {
   "cell_type": "code",
   "execution_count": 84,
   "id": "a39adf87",
   "metadata": {},
   "outputs": [],
   "source": [
    "dist_2 = {\"s1\" :3 , \"s2\" : 4} "
   ]
  },
  {
   "cell_type": "code",
   "execution_count": 85,
   "id": "64c466be",
   "metadata": {},
   "outputs": [
    {
     "data": {
      "text/plain": [
       "5.0"
      ]
     },
     "execution_count": 85,
     "metadata": {},
     "output_type": "execute_result"
    }
   ],
   "source": [
    "Pythagorean_distance(dist_2[\"s1\"],dist_2[\"s2\"])  # Keyword arguments"
   ]
  },
  {
   "cell_type": "code",
   "execution_count": 86,
   "id": "ac4d7a89",
   "metadata": {},
   "outputs": [],
   "source": [
    "list_2_args = [5, 12]  "
   ]
  },
  {
   "cell_type": "code",
   "execution_count": 87,
   "id": "401447c9",
   "metadata": {},
   "outputs": [
    {
     "data": {
      "text/plain": [
       "13.0"
      ]
     },
     "execution_count": 87,
     "metadata": {},
     "output_type": "execute_result"
    }
   ],
   "source": [
    "Pythagorean_distance(*list_2_args)  # Positional arguments"
   ]
  },
  {
   "cell_type": "code",
   "execution_count": 88,
   "id": "cee03708",
   "metadata": {},
   "outputs": [
    {
     "data": {
      "text/plain": [
       "25.0"
      ]
     },
     "execution_count": 88,
     "metadata": {},
     "output_type": "execute_result"
    }
   ],
   "source": [
    "Pythagorean_distance(*[7,24])   # Positional arguments"
   ]
  },
  {
   "cell_type": "code",
   "execution_count": null,
   "id": "e649b509",
   "metadata": {},
   "outputs": [],
   "source": [
    "# Pythagorean_distance(**{\"s1\" :3 ,\"s2\" : 4} )"
   ]
  },
  {
   "cell_type": "code",
   "execution_count": null,
   "id": "5645f4cd",
   "metadata": {},
   "outputs": [],
   "source": []
  }
 ],
 "metadata": {
  "kernelspec": {
   "display_name": "Python 3 (ipykernel)",
   "language": "python",
   "name": "python3"
  },
  "language_info": {
   "codemirror_mode": {
    "name": "ipython",
    "version": 3
   },
   "file_extension": ".py",
   "mimetype": "text/x-python",
   "name": "python",
   "nbconvert_exporter": "python",
   "pygments_lexer": "ipython3",
   "version": "3.9.7"
  }
 },
 "nbformat": 4,
 "nbformat_minor": 5
}
