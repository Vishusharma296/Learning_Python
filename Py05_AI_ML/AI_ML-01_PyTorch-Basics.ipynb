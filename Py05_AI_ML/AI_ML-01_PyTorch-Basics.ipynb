{
 "cells": [
  {
   "cell_type": "markdown",
   "id": "6406de1a",
   "metadata": {},
   "source": [
    "# PyTorch for Beginners\n"
   ]
  },
  {
   "cell_type": "code",
   "execution_count": 1,
   "id": "af5599c5",
   "metadata": {},
   "outputs": [],
   "source": [
    "# Libraries and Frameworks\n",
    "\n",
    "import numpy as np\n",
    "import torch"
   ]
  },
  {
   "cell_type": "markdown",
   "id": "0ec4af85",
   "metadata": {},
   "source": [
    "### 1. Basics of PyTorch Tensors"
   ]
  },
  {
   "cell_type": "code",
   "execution_count": 2,
   "id": "63c673df",
   "metadata": {},
   "outputs": [
    {
     "name": "stdout",
     "output_type": "stream",
     "text": [
      "tensor([[1, 2, 3],\n",
      "        [4, 5, 6],\n",
      "        [7, 8, 9]])\n",
      "torch.Size([3, 3])\n",
      "torch.int64\n",
      "cpu\n"
     ]
    }
   ],
   "source": [
    "#1.1 Basics of PyTorch Tensors\n",
    "\n",
    "a = torch.tensor([[1, 2, 3], [4, 5, 6], [7, 8, 9]])\n",
    "print(a)\n",
    "print(a.shape)\n",
    "print(a.dtype)\n",
    "print(a.device)"
   ]
  },
  {
   "cell_type": "code",
   "execution_count": 3,
   "id": "c02d5794",
   "metadata": {},
   "outputs": [
    {
     "name": "stdout",
     "output_type": "stream",
     "text": [
      "This is like a zeroes matrix/Tensor tensor([[0., 0., 0.],\n",
      "        [0., 0., 0.],\n",
      "        [0., 0., 0.]])\n",
      "torch.Size([3, 3])\n",
      "This is like a ones matrix/Tensor tensor([[1., 1., 1.],\n",
      "        [1., 1., 1.],\n",
      "        [1., 1., 1.]])\n",
      "torch.Size([3, 3])\n",
      "This is like an identity matrix/Tensor tensor([[1., 0., 0.],\n",
      "        [0., 1., 0.],\n",
      "        [0., 0., 1.]])\n",
      "torch.Size([3, 3])\n"
     ]
    }
   ],
   "source": [
    "#1.2 Special Tensors\n",
    "\n",
    "b = torch.zeros((3, 3))\n",
    "print(\"This is like a zeroes matrix/Tensor\",b)\n",
    "print(b.shape)\n",
    "c = torch.ones((3, 3))\n",
    "print(\"This is like a ones matrix/Tensor\", c)\n",
    "print(c.shape)\n",
    "d = torch.eye(3)\n",
    "print(\"This is like an identity matrix/Tensor\", d)\n",
    "print(d.shape)"
   ]
  },
  {
   "cell_type": "code",
   "execution_count": 4,
   "id": "ad1bb2bf",
   "metadata": {},
   "outputs": [
    {
     "name": "stdout",
     "output_type": "stream",
     "text": [
      "First element of a tensor: tensor(1)\n",
      "Fifth element of a tensor: tensor(5)\n",
      "Last element of a tensor: tensor(9)\n"
     ]
    }
   ],
   "source": [
    "#1.3 Accessing element of a tensor\n",
    "\n",
    "print(\"First element of a tensor:\", a[0][0])\n",
    "print(\"Fifth element of a tensor:\", a[1][1])\n",
    "print(\"Last element of a tensor:\", a[-1][-1])\n"
   ]
  },
  {
   "cell_type": "code",
   "execution_count": 5,
   "id": "6e9be39c",
   "metadata": {},
   "outputs": [
    {
     "name": "stdout",
     "output_type": "stream",
     "text": [
      "First row of a tensor tensor([[1, 2, 3]])\n",
      "First column of a tensor tensor([1, 4, 7])\n",
      "Last row of a tensor tensor([7, 8, 9])\n",
      "Last column of a tensor tensor([3, 6, 9])\n"
     ]
    }
   ],
   "source": [
    "#1.4 Slicing a tensor\n",
    "\n",
    "print(\"First row of a tensor\", a[0:1])\n",
    "print(\"First column of a tensor\", a[:, 0])\n",
    "print(\"Last row of a tensor\", a[-1])\n",
    "print(\"Last column of a tensor\", a[:, -1])\n"
   ]
  },
  {
   "cell_type": "code",
   "execution_count": 6,
   "id": "b00b4db8",
   "metadata": {},
   "outputs": [
    {
     "name": "stdout",
     "output_type": "stream",
     "text": [
      "tensor([[1., 2., 3.],\n",
      "        [4., 5., 6.],\n",
      "        [7., 8., 9.]])\n",
      "torch.float32\n"
     ]
    }
   ],
   "source": [
    "# 1.5 changing data type of tensor form int to float\n",
    "a.dtype\n",
    "a_float = a.float()\n",
    "print(a_float)\n",
    "print(a_float.dtype)"
   ]
  },
  {
   "cell_type": "code",
   "execution_count": 7,
   "id": "d17f25b1",
   "metadata": {},
   "outputs": [
    {
     "name": "stdout",
     "output_type": "stream",
     "text": [
      "Numpy array x is:  [[1 5 3]\n",
      " [8 7 6]\n",
      " [1 0 9]]\n",
      "Pytorch tensor x is:  tensor([[1, 5, 3],\n",
      "        [8, 7, 6],\n",
      "        [1, 0, 9]])\n"
     ]
    }
   ],
   "source": [
    "#1.6 Converting Pytorch tensor from Numpy Array\n",
    "\n",
    "x = np.array([[1, 5, 3], [8, 7, 6], [1, 0, 9]])\n",
    "print(\"Numpy array x is: \", x)\n",
    "x_tensor = torch.from_numpy(x)\n",
    "print(\"Pytorch tensor x is: \", x_tensor)"
   ]
  },
  {
   "cell_type": "code",
   "execution_count": 8,
   "id": "0bdd3a43",
   "metadata": {},
   "outputs": [
    {
     "name": "stdout",
     "output_type": "stream",
     "text": [
      "Pytorch tensor x is:  tensor([[1, 5, 3],\n",
      "        [8, 7, 6],\n",
      "        [1, 0, 9]])\n",
      "Numpy array y is:  [[1 5 3]\n",
      " [8 7 6]\n",
      " [1 0 9]]\n"
     ]
    }
   ],
   "source": [
    "#1.6 Converting Pytorch tensor to Numpy Array\n",
    "print(\"Pytorch tensor x is: \", x_tensor)\n",
    "y = x_tensor.numpy()    \n",
    "print(\"Numpy array y is: \", y)"
   ]
  },
  {
   "cell_type": "code",
   "execution_count": 9,
   "id": "a4358b3a",
   "metadata": {},
   "outputs": [
    {
     "name": "stdout",
     "output_type": "stream",
     "text": [
      "Transpose of the Original tensor a is:  tensor([[1, 4, 7],\n",
      "        [2, 5, 8],\n",
      "        [3, 6, 9]])\n"
     ]
    }
   ],
   "source": [
    "#1.7 Reshaping a tensor (Transpose)\n",
    "a_transpose = a.T\n",
    "print(\"Transpose of the Original tensor a is: \", a_transpose)  \n",
    "\n"
   ]
  },
  {
   "cell_type": "markdown",
   "id": "efc1c9e5",
   "metadata": {},
   "source": [
    "### 2. Operations on Tensors\n"
   ]
  },
  {
   "cell_type": "code",
   "execution_count": 10,
   "id": "4b7fddb7",
   "metadata": {},
   "outputs": [
    {
     "name": "stdout",
     "output_type": "stream",
     "text": [
      "Addition of two tensors A1 and A2 is:  tensor([[10, 10, 10],\n",
      "        [10, 10, 10],\n",
      "        [10, 10, 10]])\n"
     ]
    }
   ],
   "source": [
    "#2.1 Addition of tensors (Elementwise)\n",
    "\n",
    "A1 = torch.tensor([[1, 2, 3], [4, 5, 6], [7, 8, 9]])\n",
    "A2 = torch.tensor([[9, 8, 7], [6, 5, 4], [3, 2, 1]])\n",
    "A3 = A1 + A2\n",
    "print(\"Addition of two tensors A1 and A2 is: \", A3)"
   ]
  },
  {
   "cell_type": "code",
   "execution_count": 11,
   "id": "d27745ba",
   "metadata": {},
   "outputs": [
    {
     "name": "stdout",
     "output_type": "stream",
     "text": [
      "Subtraction of two tensors A2 and A1 is:  tensor([[ 8,  6,  4],\n",
      "        [ 2,  0, -2],\n",
      "        [-4, -6, -8]])\n"
     ]
    }
   ],
   "source": [
    "#2.2 Subtraction of tensors (Elementwise)\n",
    "\n",
    "A4 = A2 - A1\n",
    "print(\"Subtraction of two tensors A2 and A1 is: \", A4)"
   ]
  },
  {
   "cell_type": "code",
   "execution_count": 12,
   "id": "e0ad1f7f",
   "metadata": {},
   "outputs": [
    {
     "name": "stdout",
     "output_type": "stream",
     "text": [
      "Multiplication of two tensors A1 and A2 is:  tensor([[ 9, 16, 21],\n",
      "        [24, 25, 24],\n",
      "        [21, 16,  9]])\n"
     ]
    }
   ],
   "source": [
    "#2.3 Multiplication of tensors (Elementwise)\n",
    "\n",
    "A5 = A1 * A2\n",
    "print(\"Multiplication of two tensors A1 and A2 is: \", A5)"
   ]
  },
  {
   "cell_type": "code",
   "execution_count": 13,
   "id": "e03b4496",
   "metadata": {},
   "outputs": [
    {
     "name": "stdout",
     "output_type": "stream",
     "text": [
      "Matrix Multiplication of two tensors A1 and A2 is:  tensor([[ 30,  24,  18],\n",
      "        [ 84,  69,  54],\n",
      "        [138, 114,  90]])\n"
     ]
    }
   ],
   "source": [
    "#2.4 Matrix Multiplication of tensors\n",
    "\n",
    "A6 = torch.matmul(A1, A2)\n",
    "print(\"Matrix Multiplication of two tensors A1 and A2 is: \", A6)"
   ]
  },
  {
   "cell_type": "code",
   "execution_count": 14,
   "id": "8482e632",
   "metadata": {},
   "outputs": [
    {
     "name": "stdout",
     "output_type": "stream",
     "text": [
      "Multiplication of tensor A1 with scalar 2 is:  tensor([[ 2,  4,  6],\n",
      "        [ 8, 10, 12],\n",
      "        [14, 16, 18]])\n",
      "Division of tensor A1 with scalar 2 is:  tensor([[0.5000, 1.0000, 1.5000],\n",
      "        [2.0000, 2.5000, 3.0000],\n",
      "        [3.5000, 4.0000, 4.5000]])\n"
     ]
    }
   ],
   "source": [
    "#2.5 Multiplication of tensors with scalar\n",
    "\n",
    "A7 = A1 * 2 \n",
    "print(\"Multiplication of tensor A1 with scalar 2 is: \", A7)\n",
    "\n",
    "#2.6 Division of tensors with scalar\n",
    "A8 = A1 / 2\n",
    "print(\"Division of tensor A1 with scalar 2 is: \", A8)"
   ]
  },
  {
   "cell_type": "code",
   "execution_count": 15,
   "id": "649543f0",
   "metadata": {},
   "outputs": [
    {
     "name": "stdout",
     "output_type": "stream",
     "text": [
      "Division of two tensors A2 and A1 is:  tensor([[9.0000, 4.0000, 2.3333],\n",
      "        [1.5000, 1.0000, 0.6667],\n",
      "        [0.4286, 0.2500, 0.1111]])\n"
     ]
    }
   ],
   "source": [
    "#2.7 Division of tensors (Elementwise)\n",
    "\n",
    "A9 = A2 / A1\n",
    "print(\"Division of two tensors A2 and A1 is: \", A9)"
   ]
  },
  {
   "cell_type": "code",
   "execution_count": 16,
   "id": "8364ffd5",
   "metadata": {},
   "outputs": [
    {
     "name": "stdout",
     "output_type": "stream",
     "text": [
      "torch.Size([3])\n",
      "torch.Size([1])\n",
      "Broadcasting of two tensors A10 and A11 is:  tensor([101, 102, 103])\n",
      "Broadcasting of tensor A10 with scalar 100 is:  tensor([501, 502, 503])\n",
      "torch.Size([1, 3])\n",
      "torch.Size([3, 1])\n",
      "Broadcasting of two tensors A14 and A15 with different shapes is:  tensor([[11, 12, 13],\n",
      "        [21, 22, 23],\n",
      "        [31, 32, 33]])\n"
     ]
    }
   ],
   "source": [
    "#2.8 Broadcasting\n",
    "\n",
    "A10 = torch.tensor([1, 2, 3])\n",
    "print(A10.shape)\n",
    "A11 = torch.tensor([100])\n",
    "print(A11.shape)\n",
    "A12 = A10 + A11\n",
    "print(\"Broadcasting of two tensors A10 and A11 is: \", A12)\n",
    "\n",
    "#2.9 Broadcasting with scalar\n",
    "\n",
    "A13 = A10 + 500     \n",
    "print(\"Broadcasting of tensor A10 with scalar 100 is: \", A13)\n",
    "\n",
    "#2.10 Broadcasting with different shapes\n",
    "\n",
    "A14 = torch.tensor([[1, 2, 3]])\n",
    "print(A14.shape)\n",
    "A15 = torch.tensor([[10], [20], [30]])\n",
    "print(A15.shape)\n",
    "A16 = A14 + A15\n",
    "print(\"Broadcasting of two tensors A14 and A15 with different shapes is: \", A16)\n"
   ]
  }
 ],
 "metadata": {
  "kernelspec": {
   "display_name": "OpenCV-1",
   "language": "python",
   "name": "python3"
  },
  "language_info": {
   "codemirror_mode": {
    "name": "ipython",
    "version": 3
   },
   "file_extension": ".py",
   "mimetype": "text/x-python",
   "name": "python",
   "nbconvert_exporter": "python",
   "pygments_lexer": "ipython3",
   "version": "3.12.3"
  }
 },
 "nbformat": 4,
 "nbformat_minor": 5
}
