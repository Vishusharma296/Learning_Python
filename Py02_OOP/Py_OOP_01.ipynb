{
 "cells": [
  {
   "cell_type": "markdown",
   "metadata": {},
   "source": [
    "## Object Oriented Programming in Python\n",
    "\n",
    "\n",
    "\n",
    "\n",
    "Object-Oriented Programming (OOP) is a programming paradigm based on the concept of \"objects\", which can contain data and code. Data is stored in fields (often called attributes or properties), and code is stored in methods (functions associated with an object). \n",
    "\n",
    "### Classes, Objects, Members\n",
    "\n",
    "- Class: A blueprint for creating objects (a particular data structure). It defines a set of attributes and methods that the object created from the class can use.\n",
    "- Object: An instance of a class. It represents a specific implementation of the class.\n",
    "\n",
    "- Public members: Attributes and methods that can be accessed from anywhere.\n",
    "- Protected members: Attributes and methods that should not be accessed outside the class, but can be accessed in derived classes. These are prefixed with a single underscore (_).\n",
    "- Private members: Attributes and methods that cannot be accessed directly outside the class. These are prefixed with double underscores (__). \n",
    "\n",
    "\n",
    "### Methods and attributes\n",
    "\n",
    "- The `__init__` method is a special method in Python classes. It is called a constructor and is automatically invoked when a new object (instance) of the class is created. It allows the class to initialize the attributes of the class.\n",
    "\n",
    "- The **self** parameter in the `__init__` method and other instance methods refers to the instance of the class. It allows access to the attributes and methods of the class in Python.\n",
    "\n",
    "-  Getter and Setter Methods: These methods provide a controlled way to access and modify the private attributes of a class. These methods are useful for adding logic when accessing or modifying attributes. \n",
    "\t- They help in maintaining the integrity of the data by allowing validation and other logic to be applied when data is accessed or modified.\n",
    "\t- `__get` and `__set` Methods: The `__get__` and `__set__` methods are part of the descriptor protocol in Python. \n",
    "\t- **Descriptors**: `Descriptor` is a class implementing the `__get__` and `__set__` methods.\n",
    "\t- `__get__(self, instance, owner)`: Defines the behavior when the attribute is accessed.\n",
    "\t- `__set__(self, instance, value)`: Defines the behavior when the attribute is set.\n",
    "\t-  Descriptors are objects that implement a method of the descriptor protocol: `__get__`, `__set__`, and optionally `__delete__`. These methods are used to manage the attributes of another class.\n",
    "\n",
    "OOP in Python has the following main topics\n",
    "\n",
    "- Encapsulation\n",
    "- Inheritance\n",
    "- Polymorphism\n"
   ]
  },
  {
   "cell_type": "code",
   "execution_count": 10,
   "metadata": {},
   "outputs": [],
   "source": [
    "## An example illustrating the OOP in Python\n",
    "\n",
    "class Car:\n",
    "    \n",
    "    # Class attribute\n",
    "    Machine_type = \"ICE\"\n",
    "\n",
    "    # Constructor\n",
    "    def __init__(self, name, cost):\n",
    "        # Instance attributes\n",
    "        self.name = name\n",
    "        self.cost = cost\n",
    "\n",
    "    # Class Instance method 1\n",
    "    def Description(self):\n",
    "        return f\"{self.name} costs € {self.cost} Euros\"\n",
    "    \n",
    "    # Class Instance method 2\n",
    "    def Type(self,Car_type ):\n",
    "        return f\"{self.name} is a {Car_type} vehicle\"\n",
    "\n"
   ]
  },
  {
   "cell_type": "code",
   "execution_count": 12,
   "metadata": {},
   "outputs": [
    {
     "name": "stdout",
     "output_type": "stream",
     "text": [
      "ICE\n",
      "Mercedes CLK GTR costs € 8000000000.0 Euros\n",
      "Mercedes CLK GTR is a Luxury vehicle\n"
     ]
    }
   ],
   "source": [
    "\n",
    "# Creating objects\n",
    "\n",
    "Car1 = Car(\"Mercedes CLK GTR\", 8e9)\n",
    "Car2 = Car(\"Porsche 911\", 1.5e6)\n",
    "\n",
    "# Accessing attributes and methods\n",
    "\n",
    "print(Car1.Machine_type)\n",
    "print(Car1.Description())       \n",
    "print(Car1.Type(\"Luxury\")) "
   ]
  },
  {
   "cell_type": "markdown",
   "metadata": {},
   "source": [
    "## Encapsulation :\n",
    "\n",
    "Encapsulation is a fundamental concept in object-oriented programming (OOP) that involves bundling data (attributes) and methods (functions) that operate on that data into a single unit called a class. This concept helps in restricting direct access to an object's components, which can prevent the accidental modification of data and enhance code security and organization. Encapsulation hides the internal state of an object from the outside world and only exposes a controlled interface. This is achieved by making some attributes and methods private or protected.\n",
    "\n",
    "\n",
    "Benefits of Encapsulation:\n",
    "\n",
    "- Security, Maintainability, Reusability\n",
    "- Hiding complex implementation details and contributes significantly to code modularity\n",
    "- Data protection and validation by controlling access to class attributes.\n",
    "- Maintaining data integrity by controlling how attributes are modified. \n",
    "- Creating immutable objects and provides read-only access to its attributes\n",
    "- Restricting access in APIs\n",
    "\n"
   ]
  },
  {
   "cell_type": "code",
   "execution_count": 30,
   "metadata": {},
   "outputs": [],
   "source": [
    "class Cars:\n",
    "    \n",
    "    def __init__(self, name, cost, year, speed):\n",
    "        \n",
    "        self.name = name     # Public attribute\n",
    "        self.cost = cost     # Public attribute\n",
    "\n",
    "        self.__year = year      # Private attribute\n",
    "        self._speed = speed     # Protected attribute\n",
    "\n",
    "    # Class Instance method 1\n",
    "    def Information(self):\n",
    "        return f\"{self.name} costs {self.cost} Euros\"\n",
    "\n",
    "\n",
    "    # Getter method    \n",
    "\n",
    "    def get_speed(self):\n",
    "        return self._speed\n",
    "    \n",
    "\n",
    "    # Setter method \n",
    "\n",
    "    def set_year(self, year):\n",
    "\n",
    "        if year >= 2010:\n",
    "            self._year = year\n",
    "        else: \n",
    "            raise ValueError(\"Car is too old\")\n",
    "        return f\"{self.name} is built in {year}\"\n",
    "\n",
    "\n",
    " \n"
   ]
  },
  {
   "cell_type": "code",
   "execution_count": 31,
   "metadata": {},
   "outputs": [
    {
     "name": "stdout",
     "output_type": "stream",
     "text": [
      "Toyota Hilux costs 30000 Euros\n",
      "180\n"
     ]
    }
   ],
   "source": [
    "# Creating an object\n",
    "\n",
    "Cars1 = Cars(\"Toyota Hilux\", 30000, \"2020\", 250)\n",
    "Cars2 = Cars(\"VW Polo\", 5000, \"2005\", 180)\n",
    "Cars3 = Cars(\"Tata Safari\", 25000, \"2011\", 200)\n",
    "\n",
    "# Accessing methods\n",
    "\n",
    "print(Cars1.Information())\n",
    "print(Cars2.get_speed())\n"
   ]
  },
  {
   "cell_type": "code",
   "execution_count": 32,
   "metadata": {},
   "outputs": [
    {
     "name": "stdout",
     "output_type": "stream",
     "text": [
      "Tata Safari is built in 2012\n"
     ]
    }
   ],
   "source": [
    "print(Cars3.set_year(2012))"
   ]
  },
  {
   "cell_type": "markdown",
   "metadata": {},
   "source": [
    "## Inheritence\n",
    "\n",
    "Inheritance: Enable new classes to receive or \"inherit\" the properties and methods of existing classes.\n"
   ]
  },
  {
   "cell_type": "code",
   "execution_count": null,
   "metadata": {},
   "outputs": [],
   "source": []
  }
 ],
 "metadata": {
  "kernelspec": {
   "display_name": "Python 3",
   "language": "python",
   "name": "python3"
  },
  "language_info": {
   "codemirror_mode": {
    "name": "ipython",
    "version": 3
   },
   "file_extension": ".py",
   "mimetype": "text/x-python",
   "name": "python",
   "nbconvert_exporter": "python",
   "pygments_lexer": "ipython3",
   "version": "3.9.2"
  }
 },
 "nbformat": 4,
 "nbformat_minor": 2
}
